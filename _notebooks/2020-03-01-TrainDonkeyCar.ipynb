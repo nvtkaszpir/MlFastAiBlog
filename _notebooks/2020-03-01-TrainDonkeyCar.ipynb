{
  "nbformat": 4,
  "nbformat_minor": 0,
  "metadata": {
    "accelerator": "GPU",
    "colab": {
      "name": "Donkey Car Training  modified using Google Colab",
      "provenance": [],
      "collapsed_sections": [],
      "toc_visible": true
    },
    "kernelspec": {
      "display_name": "Python 3",
      "language": "python",
      "name": "python3"
    },
    "language_info": {
      "codemirror_mode": {
        "name": "ipython",
        "version": 3
      },
      "file_extension": ".py",
      "mimetype": "text/x-python",
      "name": "python",
      "nbconvert_exporter": "python",
      "pygments_lexer": "ipython3",
      "version": "3.6.6"
    }
  },
  "cells": [
    {
      "cell_type": "markdown",
      "metadata": {
        "colab_type": "text",
        "id": "BlmQIFSLZDdc"
      },
      "source": [
        "# Train donkeycar with GPU support in Colab\n",
        "> Use Colab to train a neural network for a donkey car \n",
        "\n",
        "- toc: true\n",
        "- badges: true\n",
        "- categories: [donkeycar, Colab]\n",
        "- image: images/roboCar2020.jpg\n",
        "- author: Uwe Sterr\n",
        "- comments: true"
      ]
    },
    {
      "cell_type": "markdown",
      "metadata": {
        "colab_type": "text",
        "id": "Fg2cbgwvj86i"
      },
      "source": [
        "# Credit\n",
        "> Note: This notebook is based on https://colab.research.google.com/github/robocarstore/donkey-car-training-on-google-colab/blob/master/Donkey_Car_Training_using_Google_Colab.ipynb"
      ]
    },
    {
      "cell_type": "markdown",
      "metadata": {
        "colab_type": "text",
        "id": "arsH-DhLcihq"
      },
      "source": [
        "# Create environment\n",
        "- install donkeycar\n",
        "- uplaod via  data\n",
        "    - direct upload\n",
        "    - mount Google drive\n",
        "\n",
        "## Check GPU allocation\n",
        "If \"Found GPU at: / device: GPU: 0\" is displayed, the GPU is ready to use."
      ]
    },
    {
      "cell_type": "markdown",
      "metadata": {
        "colab_type": "text",
        "id": "VBVjteqHtvg-"
      },
      "source": [
        "> Note: Donkeycar at the time of writing in March 2020 uses Tensorflow 1.13, therefore version 1.xx is installed"
      ]
    },
    {
      "cell_type": "code",
      "metadata": {
        "colab_type": "code",
        "id": "uQgEhuoTcg0N",
        "outputId": "6ee14d95-b26c-4823-b5b8-b7c1b7c3af61",
        "colab": {
          "base_uri": "https://localhost:8080/",
          "height": 119
        }
      },
      "source": [
        "#collapse-show \n",
        "%tensorflow_version 1.13.1\n",
        "import tensorflow\n",
        "print(tensorflow.__version__)"
      ],
      "execution_count": 1,
      "outputs": [
        {
          "output_type": "stream",
          "text": [
            "`%tensorflow_version` only switches the major version: 1.x or 2.x.\n",
            "You set: `1.13.1`. This will be interpreted as: `1.x`.\n",
            "\n",
            "\n",
            "TensorFlow 1.x selected.\n",
            "1.15.0\n"
          ],
          "name": "stdout"
        }
      ]
    },
    {
      "cell_type": "markdown",
      "metadata": {
        "colab_type": "text",
        "id": "Ba2oPDIrsDFg"
      },
      "source": [
        "## Git Clone the donkeycar repository"
      ]
    },
    {
      "cell_type": "markdown",
      "metadata": {
        "colab_type": "text",
        "id": "kGlk1n7OtvhE"
      },
      "source": [
        "Get the latest donkeycar from GitHub \n",
        "> Note: The default branch is \"dev\", however, the documentation is for the master branch."
      ]
    },
    {
      "cell_type": "code",
      "metadata": {
        "colab_type": "code",
        "id": "oOxd9PFUyNxI",
        "outputId": "a22c1094-b32d-493b-ba8d-b6ba9abf00bd",
        "colab": {
          "base_uri": "https://localhost:8080/",
          "height": 187
        }
      },
      "source": [
        "!git clone https://github.com/autorope/donkeycar.git \n",
        "%cd /content/donkeycar\n",
        "\n",
        "!git checkout master"
      ],
      "execution_count": 2,
      "outputs": [
        {
          "output_type": "stream",
          "text": [
            "Cloning into 'donkeycar'...\n",
            "remote: Enumerating objects: 232, done.\u001b[K\n",
            "remote: Counting objects:   0% (1/232)\u001b[K\rremote: Counting objects:   1% (3/232)\u001b[K\rremote: Counting objects:   2% (5/232)\u001b[K\rremote: Counting objects:   3% (7/232)\u001b[K\rremote: Counting objects:   4% (10/232)\u001b[K\rremote: Counting objects:   5% (12/232)\u001b[K\rremote: Counting objects:   6% (14/232)\u001b[K\rremote: Counting objects:   7% (17/232)\u001b[K\rremote: Counting objects:   8% (19/232)\u001b[K\rremote: Counting objects:   9% (21/232)\u001b[K\rremote: Counting objects:  10% (24/232)\u001b[K\rremote: Counting objects:  11% (26/232)\u001b[K\rremote: Counting objects:  12% (28/232)\u001b[K\rremote: Counting objects:  13% (31/232)\u001b[K\rremote: Counting objects:  14% (33/232)\u001b[K\rremote: Counting objects:  15% (35/232)\u001b[K\rremote: Counting objects:  16% (38/232)\u001b[K\rremote: Counting objects:  17% (40/232)\u001b[K\rremote: Counting objects:  18% (42/232)\u001b[K\rremote: Counting objects:  19% (45/232)\u001b[K\rremote: Counting objects:  20% (47/232)\u001b[K\rremote: Counting objects:  21% (49/232)\u001b[K\rremote: Counting objects:  22% (52/232)\u001b[K\rremote: Counting objects:  23% (54/232)\u001b[K\rremote: Counting objects:  24% (56/232)\u001b[K\rremote: Counting objects:  25% (58/232)\u001b[K\rremote: Counting objects:  26% (61/232)\u001b[K\rremote: Counting objects:  27% (63/232)\u001b[K\rremote: Counting objects:  28% (65/232)\u001b[K\rremote: Counting objects:  29% (68/232)\u001b[K\rremote: Counting objects:  30% (70/232)\u001b[K\rremote: Counting objects:  31% (72/232)\u001b[K\rremote: Counting objects:  32% (75/232)\u001b[K\rremote: Counting objects:  33% (77/232)\u001b[K\rremote: Counting objects:  34% (79/232)\u001b[K\rremote: Counting objects:  35% (82/232)\u001b[K\rremote: Counting objects:  36% (84/232)\u001b[K\rremote: Counting objects:  37% (86/232)\u001b[K\rremote: Counting objects:  38% (89/232)\u001b[K\rremote: Counting objects:  39% (91/232)\u001b[K\rremote: Counting objects:  40% (93/232)\u001b[K\rremote: Counting objects:  41% (96/232)\u001b[K\rremote: Counting objects:  42% (98/232)\u001b[K\rremote: Counting objects:  43% (100/232)\u001b[K\rremote: Counting objects:  44% (103/232)\u001b[K\rremote: Counting objects:  45% (105/232)\u001b[K\rremote: Counting objects:  46% (107/232)\u001b[K\rremote: Counting objects:  47% (110/232)\u001b[K\rremote: Counting objects:  48% (112/232)\u001b[K\rremote: Counting objects:  49% (114/232)\u001b[K\rremote: Counting objects:  50% (116/232)\u001b[K\rremote: Counting objects:  51% (119/232)\u001b[K\rremote: Counting objects:  52% (121/232)\u001b[K\rremote: Counting objects:  53% (123/232)\u001b[K\rremote: Counting objects:  54% (126/232)\u001b[K\rremote: Counting objects:  55% (128/232)\u001b[K\rremote: Counting objects:  56% (130/232)\u001b[K\rremote: Counting objects:  57% (133/232)\u001b[K\rremote: Counting objects:  58% (135/232)\u001b[K\rremote: Counting objects:  59% (137/232)\u001b[K\rremote: Counting objects:  60% (140/232)\u001b[K\rremote: Counting objects:  61% (142/232)\u001b[K\rremote: Counting objects:  62% (144/232)\u001b[K\rremote: Counting objects:  63% (147/232)\u001b[K\rremote: Counting objects:  64% (149/232)\u001b[K\rremote: Counting objects:  65% (151/232)\u001b[K\rremote: Counting objects:  66% (154/232)\u001b[K\rremote: Counting objects:  67% (156/232)\u001b[K\rremote: Counting objects:  68% (158/232)\u001b[K\rremote: Counting objects:  69% (161/232)\u001b[K\rremote: Counting objects:  70% (163/232)\u001b[K\rremote: Counting objects:  71% (165/232)\u001b[K\rremote: Counting objects:  72% (168/232)\u001b[K\rremote: Counting objects:  73% (170/232)\u001b[K\rremote: Counting objects:  74% (172/232)\u001b[K\rremote: Counting objects:  75% (174/232)\u001b[K\rremote: Counting objects:  76% (177/232)\u001b[K\rremote: Counting objects:  77% (179/232)\u001b[K\rremote: Counting objects:  78% (181/232)\u001b[K\rremote: Counting objects:  79% (184/232)\u001b[K\rremote: Counting objects:  80% (186/232)\u001b[K\rremote: Counting objects:  81% (188/232)\u001b[K\rremote: Counting objects:  82% (191/232)\u001b[K\rremote: Counting objects:  83% (193/232)\u001b[K\rremote: Counting objects:  84% (195/232)\u001b[K\rremote: Counting objects:  85% (198/232)\u001b[K\rremote: Counting objects:  86% (200/232)\u001b[K\rremote: Counting objects:  87% (202/232)\u001b[K\rremote: Counting objects:  88% (205/232)\u001b[K\rremote: Counting objects:  89% (207/232)\u001b[K\rremote: Counting objects:  90% (209/232)\u001b[K\rremote: Counting objects:  91% (212/232)\u001b[K\rremote: Counting objects:  92% (214/232)\u001b[K\rremote: Counting objects:  93% (216/232)\u001b[K\rremote: Counting objects:  94% (219/232)\u001b[K\rremote: Counting objects:  95% (221/232)\u001b[K\rremote: Counting objects:  96% (223/232)\u001b[K\rremote: Counting objects:  97% (226/232)\u001b[K\rremote: Counting objects:  98% (228/232)\u001b[K\rremote: Counting objects:  99% (230/232)\u001b[K\rremote: Counting objects: 100% (232/232)\u001b[K\rremote: Counting objects: 100% (232/232), done.\u001b[K\n",
            "remote: Compressing objects: 100% (141/141), done.\u001b[K\n",
            "remote: Total 12180 (delta 119), reused 156 (delta 60), pack-reused 11948\n",
            "Receiving objects: 100% (12180/12180), 65.21 MiB | 24.88 MiB/s, done.\n",
            "Resolving deltas: 100% (7621/7621), done.\n",
            "/content/donkeycar\n",
            "Branch 'master' set up to track remote branch 'master' from 'origin'.\n",
            "Switched to a new branch 'master'\n"
          ],
          "name": "stdout"
        }
      ]
    },
    {
      "cell_type": "markdown",
      "metadata": {
        "colab_type": "text",
        "id": "9TkkcF-gsAnx"
      },
      "source": [
        "## Install donkey car\n",
        "Different to the description at http://docs.donkeycar.com/guide/host_pc/setup_ubuntu/ we create no anaconda environment since the script is supposed to run on Colab which will delete the instance anyway"
      ]
    },
    {
      "cell_type": "code",
      "metadata": {
        "colab_type": "code",
        "id": "jz_PZgrByPDh",
        "outputId": "b438cfda-fb7b-4cfa-aad1-57b81274c5dc",
        "colab": {
          "base_uri": "https://localhost:8080/",
          "height": 629
        }
      },
      "source": [
        "!pip3 install -e .[pc]"
      ],
      "execution_count": 3,
      "outputs": [
        {
          "output_type": "stream",
          "text": [
            "Obtaining file:///content/donkeycar\n",
            "Requirement already satisfied: numpy in /usr/local/lib/python3.6/dist-packages (from donkeycar==3.1.1) (1.17.5)\n",
            "Requirement already satisfied: pillow in /usr/local/lib/python3.6/dist-packages (from donkeycar==3.1.1) (6.2.2)\n",
            "Requirement already satisfied: docopt in /usr/local/lib/python3.6/dist-packages (from donkeycar==3.1.1) (0.6.2)\n",
            "Requirement already satisfied: tornado in /usr/local/lib/python3.6/dist-packages (from donkeycar==3.1.1) (4.5.3)\n",
            "Requirement already satisfied: requests in /usr/local/lib/python3.6/dist-packages (from donkeycar==3.1.1) (2.21.0)\n",
            "Requirement already satisfied: h5py in /usr/local/lib/python3.6/dist-packages (from donkeycar==3.1.1) (2.8.0)\n",
            "Requirement already satisfied: moviepy in /usr/local/lib/python3.6/dist-packages (from donkeycar==3.1.1) (0.2.3.5)\n",
            "Requirement already satisfied: pandas in /usr/local/lib/python3.6/dist-packages (from donkeycar==3.1.1) (0.25.3)\n",
            "Requirement already satisfied: PrettyTable in /usr/local/lib/python3.6/dist-packages (from donkeycar==3.1.1) (0.7.2)\n",
            "Collecting paho-mqtt\n",
            "\u001b[?25l  Downloading https://files.pythonhosted.org/packages/59/11/1dd5c70f0f27a88a3a05772cd95f6087ac479fac66d9c7752ee5e16ddbbc/paho-mqtt-1.5.0.tar.gz (99kB)\n",
            "\u001b[K     |████████████████████████████████| 102kB 4.8MB/s \n",
            "\u001b[?25hRequirement already satisfied: matplotlib in /usr/local/lib/python3.6/dist-packages (from donkeycar==3.1.1) (3.1.3)\n",
            "Requirement already satisfied: urllib3<1.25,>=1.21.1 in /usr/local/lib/python3.6/dist-packages (from requests->donkeycar==3.1.1) (1.24.3)\n",
            "Requirement already satisfied: chardet<3.1.0,>=3.0.2 in /usr/local/lib/python3.6/dist-packages (from requests->donkeycar==3.1.1) (3.0.4)\n",
            "Requirement already satisfied: certifi>=2017.4.17 in /usr/local/lib/python3.6/dist-packages (from requests->donkeycar==3.1.1) (2019.11.28)\n",
            "Requirement already satisfied: idna<2.9,>=2.5 in /usr/local/lib/python3.6/dist-packages (from requests->donkeycar==3.1.1) (2.8)\n",
            "Requirement already satisfied: six in /usr/local/lib/python3.6/dist-packages (from h5py->donkeycar==3.1.1) (1.12.0)\n",
            "Requirement already satisfied: tqdm<5.0,>=4.11.2 in /usr/local/lib/python3.6/dist-packages (from moviepy->donkeycar==3.1.1) (4.28.1)\n",
            "Requirement already satisfied: imageio<3.0,>=2.1.2 in /usr/local/lib/python3.6/dist-packages (from moviepy->donkeycar==3.1.1) (2.4.1)\n",
            "Requirement already satisfied: decorator<5.0,>=4.0.2 in /usr/local/lib/python3.6/dist-packages (from moviepy->donkeycar==3.1.1) (4.4.1)\n",
            "Requirement already satisfied: python-dateutil>=2.6.1 in /usr/local/lib/python3.6/dist-packages (from pandas->donkeycar==3.1.1) (2.6.1)\n",
            "Requirement already satisfied: pytz>=2017.2 in /usr/local/lib/python3.6/dist-packages (from pandas->donkeycar==3.1.1) (2018.9)\n",
            "Requirement already satisfied: kiwisolver>=1.0.1 in /usr/local/lib/python3.6/dist-packages (from matplotlib->donkeycar==3.1.1) (1.1.0)\n",
            "Requirement already satisfied: pyparsing!=2.0.4,!=2.1.2,!=2.1.6,>=2.0.1 in /usr/local/lib/python3.6/dist-packages (from matplotlib->donkeycar==3.1.1) (2.4.6)\n",
            "Requirement already satisfied: cycler>=0.10 in /usr/local/lib/python3.6/dist-packages (from matplotlib->donkeycar==3.1.1) (0.10.0)\n",
            "Requirement already satisfied: setuptools in /usr/local/lib/python3.6/dist-packages (from kiwisolver>=1.0.1->matplotlib->donkeycar==3.1.1) (45.2.0)\n",
            "Building wheels for collected packages: paho-mqtt\n",
            "  Building wheel for paho-mqtt (setup.py) ... \u001b[?25l\u001b[?25hdone\n",
            "  Created wheel for paho-mqtt: filename=paho_mqtt-1.5.0-cp36-none-any.whl size=61416 sha256=437ef70049a66044964976420efefb2c8123862130925987b171a3ca354ad53d\n",
            "  Stored in directory: /root/.cache/pip/wheels/02/94/6c/8474137cb7a5a3e001d70a22c8ff919caee69435376bccce79\n",
            "Successfully built paho-mqtt\n",
            "Installing collected packages: paho-mqtt, donkeycar\n",
            "  Running setup.py develop for donkeycar\n",
            "Successfully installed donkeycar paho-mqtt-1.5.0\n"
          ],
          "name": "stdout"
        }
      ]
    },
    {
      "cell_type": "markdown",
      "metadata": {
        "colab_type": "text",
        "id": "syCctLq2r4Wk"
      },
      "source": [
        "## Create Project\n",
        "In this step the follwoing actions take place\n",
        "- create necessary folders (models, data, logs)\n",
        "- copying necessary files into folders (manage.py, myconfig.py etc.)\n"
      ]
    },
    {
      "cell_type": "code",
      "metadata": {
        "colab_type": "code",
        "id": "1xjJBSITyXy2",
        "outputId": "fe9eccd8-f652-478f-c4f7-bc7ab92e864d",
        "colab": {
          "base_uri": "https://localhost:8080/",
          "height": 221
        }
      },
      "source": [
        "!donkey createcar --path /content/mycar"
      ],
      "execution_count": 4,
      "outputs": [
        {
          "output_type": "stream",
          "text": [
            "using donkey v3.1.1 ...\n",
            "Creating car folder: /content/mycar\n",
            "making dir  /content/mycar\n",
            "Creating data & model folders.\n",
            "making dir  /content/mycar/models\n",
            "making dir  /content/mycar/data\n",
            "making dir  /content/mycar/logs\n",
            "Copying car application template: complete\n",
            "Copying car config defaults. Adjust these before starting your car.\n",
            "Copying train script. Adjust these before starting your car.\n",
            "Copying my car config overrides\n",
            "Donkey setup complete.\n"
          ],
          "name": "stdout"
        }
      ]
    },
    {
      "cell_type": "markdown",
      "metadata": {
        "colab_type": "text",
        "id": "SCf6uTHnO4Lh"
      },
      "source": [
        "## Supply Data\n",
        "In order to train the neural network we need to supply trainings data which are recorded on the pi during driving the donkeycar on the track\n",
        "\n"
      ]
    },
    {
      "cell_type": "markdown",
      "metadata": {
        "colab_type": "text",
        "id": "dnUy1Z1zro77"
      },
      "source": [
        "## Supply own data\n",
        "If you have own data proceed here, if you want to use data which were made available via GitHub please continue to (link only works in blog not in Colab) [section](#own_data) **Supply GitHub hosted data**\n",
        "\n"
      ]
    },
    {
      "cell_type": "markdown",
      "metadata": {
        "id": "q4B2qbCc4Iaq",
        "colab_type": "text"
      },
      "source": [
        "### Zip data on raspi \n",
        "Copy the following code and run on pi \n",
        "> Note: Copying of the data is much faster if the data is zipped to one file.\n",
        "\n",
        "```bash\n",
        "cd ~/mycar/data\n",
        "# either compress just one folder\n",
        "tar -czf tub_xx_yyyy_mm_dd.tar.gz tub_xx_yyyy_mm_dd\n",
        "# or all folders starting with \"tub\"\n",
        "tar -czf trainingsData2020_03-01.tar.gz tub*\n",
        "\n",
        "\n",
        "```\n",
        "\n",
        "This will create a tub_xx_yyyy_mm_dd.tar.gz file under ~/mycar/data\n",
        "\n",
        "### Copy the zipped tub to your local PC\n",
        "\n",
        "Run this on your local pc if you are using linux/mac\n",
        "```\n",
        "sftp pi@raspberry.local\n",
        "cd ~/mycar/data\n",
        "get tub_xx_yyyy_mm_dd.tar.gz\n",
        "```\n",
        "\n",
        "If you are on a windows, download sftp utility like [filezilla](https://filezilla-project.org/) or [putty](https://www.chiark.greenend.org.uk/~sgtatham/putty/latest.html)"
      ]
    },
    {
      "cell_type": "markdown",
      "metadata": {
        "colab_type": "text",
        "id": "wlwZuLKA56nt"
      },
      "source": [
        "Define your tub name here"
      ]
    },
    {
      "cell_type": "code",
      "metadata": {
        "colab_type": "code",
        "id": "0ShFSsaewLCT",
        "colab": {}
      },
      "source": [
        "tub_name=\"tubVaihingenIIICleaned200126\""
      ],
      "execution_count": 0,
      "outputs": []
    },
    {
      "cell_type": "markdown",
      "metadata": {
        "colab_type": "text",
        "id": "W47gmXA0O4Lo"
      },
      "source": [
        "### Upload the tub from Google Drive\n",
        "\n",
        "First upload the tub_x_yyyy_mm_dd.tar.gz to Google Drive. We will then mount Google Drive from colab and copy the data from Drive directly. \n",
        "> Note: To copy data from Google Drive to Colab is faster than uplaoding it from local machine.  \n",
        "\n",
        "When you run the cell below, you will need to click the link and generate an authorization code to for colab to access your drive."
      ]
    },
    {
      "cell_type": "code",
      "metadata": {
        "colab_type": "code",
        "id": "Bgp_wtENw_4n",
        "outputId": "ab4c468d-f8cf-48ba-faa9-779c01f475ae",
        "colab": {
          "base_uri": "https://localhost:8080/",
          "height": 122
        }
      },
      "source": [
        "from google.colab import drive\n",
        "drive.mount('/content/drive')"
      ],
      "execution_count": 0,
      "outputs": [
        {
          "output_type": "stream",
          "text": [
            "Go to this URL in a browser: https://accounts.google.com/o/oauth2/auth?client_id=947318989803-6bn6qk8qdgf4n4g3pfee6491hc0brc4i.apps.googleusercontent.com&redirect_uri=urn%3aietf%3awg%3aoauth%3a2.0%3aoob&response_type=code&scope=email%20https%3a%2f%2fwww.googleapis.com%2fauth%2fdocs.test%20https%3a%2f%2fwww.googleapis.com%2fauth%2fdrive%20https%3a%2f%2fwww.googleapis.com%2fauth%2fdrive.photos.readonly%20https%3a%2f%2fwww.googleapis.com%2fauth%2fpeopleapi.readonly\n",
            "\n",
            "Enter your authorization code:\n",
            "··········\n",
            "Mounted at /content/drive\n"
          ],
          "name": "stdout"
        }
      ]
    },
    {
      "cell_type": "markdown",
      "metadata": {
        "colab_type": "text",
        "id": "IfSDpXj9x16v"
      },
      "source": [
        "Suppose you upload the tub_xx_yyyy_mm_dd.tar.gz to Google Drive/mycar/tub_xx_yyyy_mm_dd.tar.gz, this is how you copy it from Google Drive to colab"
      ]
    },
    {
      "cell_type": "code",
      "metadata": {
        "colab_type": "code",
        "id": "BIzWTrV-xwkJ",
        "outputId": "1c1ce753-951f-44a8-e32c-044acaac4876",
        "colab": {
          "base_uri": "https://localhost:8080/",
          "height": 51
        }
      },
      "source": [
        "%cd /content/mycar\n",
        "!rm -rf data\n",
        "!mkdir data\n",
        "%cd /content/mycar/data\n",
        "!cp /content/drive/My\\ Drive/myCar/{tub_name}.tar.gz ."
      ],
      "execution_count": 0,
      "outputs": [
        {
          "output_type": "stream",
          "text": [
            "/content/mycar\n",
            "/content/mycar/data\n"
          ],
          "name": "stdout"
        }
      ]
    },
    {
      "cell_type": "markdown",
      "metadata": {
        "colab_type": "text",
        "id": "QtwcEli6yFrw"
      },
      "source": [
        "And untar it to the right place"
      ]
    },
    {
      "cell_type": "code",
      "metadata": {
        "colab_type": "code",
        "id": "urhFWBkUyGf0",
        "outputId": "aca35766-103a-46e8-f40d-4e7fff178de5",
        "colab": {
          "base_uri": "https://localhost:8080/",
          "height": 34
        }
      },
      "source": [
        "%cd /content/mycar/data\n",
        "!tar -xzf {tub_name}.tar.gz"
      ],
      "execution_count": 0,
      "outputs": [
        {
          "output_type": "stream",
          "text": [
            "/content/mycar/data\n"
          ],
          "name": "stdout"
        }
      ]
    },
    {
      "cell_type": "markdown",
      "metadata": {
        "id": "4CchMtMI6gfd",
        "colab_type": "text"
      },
      "source": [
        "Lets look at one image to see we got valid data"
      ]
    },
    {
      "cell_type": "code",
      "metadata": {
        "colab_type": "code",
        "id": "KsItvBTkzWcH",
        "outputId": "08e0444f-1989-409b-c7e5-f81961c4eea0",
        "colab": {
          "base_uri": "https://localhost:8080/",
          "height": 154
        }
      },
      "source": [
        "from google.colab import files\n",
        "from IPython.display import Image\n",
        "import glob\n",
        "%cd /content/mycar/data/tubVaihingenIIICleaned200126/\n",
        "file = glob.glob(\"*.jpg\")\n",
        "Image(file[100])"
      ],
      "execution_count": 20,
      "outputs": [
        {
          "output_type": "stream",
          "text": [
            "/content/mycar/data/tubVaihingenIIICleaned200126\n"
          ],
          "name": "stdout"
        },
        {
          "output_type": "execute_result",
          "data": {
            "image/jpeg": "[encoded data removed]",
            "text/plain": [
              "<IPython.core.display.Image object>"
            ]
          },
          "metadata": {
            "tags": []
          },
          "execution_count": 20
        }
      ]
    },
    {
      "cell_type": "markdown",
      "metadata": {
        "id": "AXfVTJT6w7b2",
        "colab_type": "text"
      },
      "source": [
        "## Check quality of data\n",
        "You want data which has left and right turns preferably in equal shares. A histogram is a good tool to check if this is the case. You can use a donkeycar tool for that\n",
        "\n",
        "\n",
        "```\n",
        "donkey tubhist <tub_path> --rec=<\"user/angle\">\n",
        "```\n",
        "The histogram shows that mainly the car drove straight ahead and more left turns than right turns. It is good practice to drive a course clock wise and anti clock wise to avoid this inbalance.\n"
      ]
    },
    {
      "cell_type": "code",
      "metadata": {
        "id": "OPPFtaxwx8gk",
        "colab_type": "code",
        "colab": {
          "base_uri": "https://localhost:8080/",
          "height": 599
        },
        "outputId": "4e1e5a4a-00e8-4786-e45d-80d1df2b38e8"
      },
      "source": [
        "%cd /content/mycar\n",
        "!donkey tubhist --tub data/{tub_name} --rec=\"user/angle\"\n",
        "file = glob.glob(\"tubVaihingenIIICleaned200126_hist_user_angle.png\")\n",
        "Image(file[0])"
      ],
      "execution_count": 19,
      "outputs": [
        {
          "output_type": "stream",
          "text": [
            "/content/mycar\n",
            "using donkey v3.1.1 ...\n",
            "TubGroup:tubpaths: ['/content/mycar/data/tubVaihingenIIICleaned200126']\n",
            "joining the tubs 14234 records together. This could take 0 minutes.\n",
            "saving image to: tubVaihingenIIICleaned200126_hist_user_angle.png\n",
            "<Figure size 640x480 with 1 Axes>\n"
          ],
          "name": "stdout"
        },
        {
          "output_type": "execute_result",
          "data": {
            "image/png": "[encoded data removed]",
            "text/plain": [
              "<IPython.core.display.Image object>"
            ]
          },
          "metadata": {
            "tags": []
          },
          "execution_count": 19
        }
      ]
    },
    {
      "cell_type": "markdown",
      "metadata": {
        "id": "i4hNVVvFByr4",
        "colab_type": "text"
      },
      "source": [
        "Next step is to train your model in section [Train your model](train_model) (Link only works in blog not in Colab)"
      ]
    },
    {
      "cell_type": "markdown",
      "metadata": {
        "id": "3Acwhbrv9ZfQ",
        "colab_type": "text"
      },
      "source": [
        "## Supply GitHub hosted data\n",
        "<a id='own_data'></a>\n",
        "If you don't have own training data you might want to use an example data set\n",
        "\n",
        "> Note: The training data is cleaned ([tubclean](https://docs.donkeycar.com/utility/donkey/#clean-data-in-tub)) but whether or not you get a good working model out of it...  \n",
        "\n",
        "See instructions below how to get the data into the Colab environment\n",
        "\n",
        "\n",
        "---\n",
        "\n",
        "\n",
        "The training data are **hosted on GitHub**\n",
        "- clone GitHub repo\n",
        "- move file to data folder\n",
        "- unzip file"
      ]
    },
    {
      "cell_type": "markdown",
      "metadata": {
        "id": "JhS9u7_B7ZHP",
        "colab_type": "text"
      },
      "source": [
        "### Use data from RoboCarEsslingen\n",
        "The first data set we use is from [RoboCar Esslingen\n",
        "](https://github.com/RoboCarEsslingen) which is meetup group [Esslinger Makerspace Projekt: Autonomen RoboCar bauen](https://www.meetup.com/Esslingen-Makerspace/) located in Esslingen, Germany.  \n",
        "The data was recorded at [#8.7 Quarterly Hack: DIYrobocars Build & Race](https://www.meetup.com/Connected-Autonomous-Driving/events/259840582/) in Suttgart with kind support of Bosch"
      ]
    },
    {
      "cell_type": "code",
      "metadata": {
        "id": "r29a5dD19y61",
        "colab_type": "code",
        "outputId": "735e39d1-efa4-44a6-beca-fc2944ee9a91",
        "colab": {
          "base_uri": "https://localhost:8080/",
          "height": 170
        }
      },
      "source": [
        "%cd /content/mycar\n",
        "!rm -rf data\n",
        "!mkdir data\n",
        "%cd /content/mycar/data\n",
        "!pwd\n",
        "! git clone --recursive https://github.com/RoboCarEsslingen/trainingData.git\n"
      ],
      "execution_count": 21,
      "outputs": [
        {
          "output_type": "stream",
          "text": [
            "/content/mycar\n",
            "/content/mycar/data\n",
            "/content/mycar/data\n",
            "Cloning into 'trainingData'...\n",
            "remote: Enumerating objects: 4, done.\u001b[K\n",
            "remote: Counting objects: 100% (4/4), done.\u001b[K\n",
            "remote: Compressing objects: 100% (4/4), done.\u001b[K\n",
            "remote: Total 4 (delta 0), reused 4 (delta 0), pack-reused 0\u001b[K\n",
            "Unpacking objects: 100% (4/4), done.\n"
          ],
          "name": "stdout"
        }
      ]
    },
    {
      "cell_type": "markdown",
      "metadata": {
        "id": "PPOnDZUJLp9f",
        "colab_type": "text"
      },
      "source": [
        "Move zip file to data folder and unzip\n"
      ]
    },
    {
      "cell_type": "code",
      "metadata": {
        "id": "UzP0MiBrK0wv",
        "colab_type": "code",
        "outputId": "6f447507-fbf5-4f26-e9b1-e3efa90263b8",
        "colab": {
          "base_uri": "https://localhost:8080/",
          "height": 34
        }
      },
      "source": [
        "import shutil \n",
        "shutil.move(\"/content/mycar/data/trainingData/tubVaihingenIIICleaned200126.tar.gz\", \"/content/mycar/data\") \n",
        "\n"
      ],
      "execution_count": 22,
      "outputs": [
        {
          "output_type": "execute_result",
          "data": {
            "text/plain": [
              "'/content/mycar/data/tubVaihingenIIICleaned200126.tar.gz'"
            ]
          },
          "metadata": {
            "tags": []
          },
          "execution_count": 22
        }
      ]
    },
    {
      "cell_type": "markdown",
      "metadata": {
        "id": "v489n2oANHIw",
        "colab_type": "text"
      },
      "source": [
        "Unzip the training data file\n"
      ]
    },
    {
      "cell_type": "code",
      "metadata": {
        "id": "r7clEZSZNGUd",
        "colab_type": "code",
        "outputId": "bb4e0aea-dcd9-4fce-8255-5080fcd38628",
        "colab": {
          "base_uri": "https://localhost:8080/",
          "height": 34
        }
      },
      "source": [
        "%cd /content/mycar/data\n",
        "!tar -xzf tubVaihingenIIICleaned200126.tar.gz"
      ],
      "execution_count": 23,
      "outputs": [
        {
          "output_type": "stream",
          "text": [
            "/content/mycar/data\n"
          ],
          "name": "stdout"
        }
      ]
    },
    {
      "cell_type": "markdown",
      "metadata": {
        "colab_type": "text",
        "id": "m8hntbOb8PZH"
      },
      "source": [
        "#### Check quality of data\n",
        "You want data which has left and right turns preferably in equal shares. A histogram is a good tool to check if this is the case. You can use a donkeycar tool for that\n",
        "\n",
        "\n",
        "```\n",
        "donkey tubhist <tub_path> --rec=<\"user/angle\">\n",
        "```\n",
        "The histogram shows that mainly the car drove straight ahead and more left turns than right turns. It is good practice to drive a course clock wise and anti clock wise to avoid this inbalance.\n"
      ]
    },
    {
      "cell_type": "code",
      "metadata": {
        "colab_type": "code",
        "outputId": "0263b21a-abd6-4033-e766-474afdd95a61",
        "id": "cnGVCR5_8PZI",
        "colab": {
          "base_uri": "https://localhost:8080/",
          "height": 599
        }
      },
      "source": [
        "%cd /content/mycar\n",
        "!donkey tubhist --tub data/{tub_name} --rec=\"user/angle\"\n",
        "file = glob.glob(\"tubVaihingenIIICleaned200126_hist_user_angle.png\")\n",
        "Image(file[0])"
      ],
      "execution_count": 24,
      "outputs": [
        {
          "output_type": "stream",
          "text": [
            "/content/mycar\n",
            "using donkey v3.1.1 ...\n",
            "TubGroup:tubpaths: ['/content/mycar/data/tubVaihingenIIICleaned200126']\n",
            "joining the tubs 14234 records together. This could take 0 minutes.\n",
            "saving image to: tubVaihingenIIICleaned200126_hist_user_angle.png\n",
            "<Figure size 640x480 with 1 Axes>\n"
          ],
          "name": "stdout"
        },
        {
          "output_type": "execute_result",
          "data": {
            "image/png": "[encoded data removed]",
            "text/plain": [
              "<IPython.core.display.Image object>"
            ]
          },
          "metadata": {
            "tags": []
          },
          "execution_count": 24
        }
      ]
    },
    {
      "cell_type": "markdown",
      "metadata": {
        "colab_type": "text",
        "id": "9f9n1KNr8l_y"
      },
      "source": [
        "### Use data from Connected Autonomous Mobility\n",
        "\n",
        "Another data set is from  [Connected Autonomous Mobility\n",
        "](https://github.com/connected-autonomous-mobility/20-data)\n",
        "We clone the whole repo because I don't know how to download a single file from a GitHub repo, **if you know how to that please leave a note the comment section.**"
      ]
    },
    {
      "cell_type": "code",
      "metadata": {
        "colab_type": "code",
        "outputId": "902885cd-a9db-4617-b073-4426abc1cf8f",
        "id": "huBYp8Tu8l_0",
        "colab": {
          "base_uri": "https://localhost:8080/",
          "height": 170
        }
      },
      "source": [
        "%cd /content/mycar\n",
        "!rm -rf data\n",
        "!mkdir data\n",
        "%cd /content/mycar/data\n",
        "!pwd\n",
        "! git clone --recursive https://github.com/connected-autonomous-mobility/20-data\n"
      ],
      "execution_count": 25,
      "outputs": [
        {
          "output_type": "stream",
          "text": [
            "/content/mycar\n",
            "/content/mycar/data\n",
            "/content/mycar/data\n",
            "Cloning into '20-data'...\n",
            "remote: Enumerating objects: 19, done.\u001b[K\n",
            "remote: Counting objects: 100% (19/19), done.\u001b[K\n",
            "remote: Compressing objects: 100% (19/19), done.\u001b[K\n",
            "remote: Total 80 (delta 8), reused 0 (delta 0), pack-reused 61\u001b[K\n",
            "Unpacking objects: 100% (80/80), done.\n"
          ],
          "name": "stdout"
        }
      ]
    },
    {
      "cell_type": "markdown",
      "metadata": {
        "colab_type": "text",
        "id": "4mVN5ljz8l_3"
      },
      "source": [
        "Move zip file to data folder and unzip\n"
      ]
    },
    {
      "cell_type": "code",
      "metadata": {
        "colab_type": "code",
        "outputId": "cb285988-be8b-457c-c3e1-a6e0fd8110c0",
        "id": "FxDbItFT8l_3",
        "colab": {
          "base_uri": "https://localhost:8080/",
          "height": 34
        }
      },
      "source": [
        "import shutil \n",
        "shutil.move(\"/content/mycar/data/20-data/20190414-BOSCH-Solaris-Course/tub_36_19-04-13.zip\", \"/content/mycar/data\") \n",
        "\n"
      ],
      "execution_count": 28,
      "outputs": [
        {
          "output_type": "execute_result",
          "data": {
            "text/plain": [
              "'/content/mycar/data/tub_36_19-04-13.zip'"
            ]
          },
          "metadata": {
            "tags": []
          },
          "execution_count": 28
        }
      ]
    },
    {
      "cell_type": "markdown",
      "metadata": {
        "colab_type": "text",
        "id": "rJo3_Pk68l_5"
      },
      "source": [
        "Unzip the training data file\n"
      ]
    },
    {
      "cell_type": "code",
      "metadata": {
        "colab_type": "code",
        "id": "d7QyaWuZ8l_6",
        "colab": {}
      },
      "source": [
        "%cd /content/mycar/data\n",
        "!unzip tub_36_19-04-13.zip"
      ],
      "execution_count": 0,
      "outputs": []
    },
    {
      "cell_type": "markdown",
      "metadata": {
        "colab_type": "text",
        "id": "hWgKMCa88l_8"
      },
      "source": [
        "#### Check quality of data\n",
        "You want data which has left and right turns preferably in equal shares. A histogram is a good tool to check if this is the case. You can use a donkeycar tool for that\n",
        "\n",
        "\n",
        "```\n",
        "donkey tubhist <tub_path> --rec=<\"user/angle\">\n",
        "```\n",
        "The histogram shows that mainly the car drove straight ahead, left and right turns are pretty well balanced\n"
      ]
    },
    {
      "cell_type": "code",
      "metadata": {
        "colab_type": "code",
        "outputId": "acc5f49c-2a4c-45a0-8dd2-7b93edece086",
        "id": "t0rx23db8l_8",
        "colab": {
          "base_uri": "https://localhost:8080/",
          "height": 599
        }
      },
      "source": [
        "tub_name=\"tub_36_19-04-13\"\n",
        "%cd /content/mycar\n",
        "!donkey tubhist --tub data/{tub_name} --rec=\"user/angle\"\n",
        "file = glob.glob(\"tub_36_19-04-13_hist_user_angle.png\")\n",
        "Image(file[0])"
      ],
      "execution_count": 33,
      "outputs": [
        {
          "output_type": "stream",
          "text": [
            "/content/mycar\n",
            "using donkey v3.1.1 ...\n",
            "TubGroup:tubpaths: ['/content/mycar/data/tub_36_19-04-13']\n",
            "joining the tubs 9136 records together. This could take 0 minutes.\n",
            "saving image to: tub_36_19-04-13_hist_user_angle.png\n",
            "<Figure size 640x480 with 1 Axes>\n"
          ],
          "name": "stdout"
        },
        {
          "output_type": "execute_result",
          "data": {
            "image/png": "[encoded data removed]",
            "text/plain": [
              "<IPython.core.display.Image object>"
            ]
          },
          "metadata": {
            "tags": []
          },
          "execution_count": 33
        }
      ]
    },
    {
      "cell_type": "markdown",
      "metadata": {
        "colab_type": "text",
        "id": "lIdS-AyIxn6e"
      },
      "source": [
        "## Upload local files\n",
        "You can upload files from local machine as well, but probably is slower than above approach downloading files from Google Drive"
      ]
    },
    {
      "cell_type": "code",
      "metadata": {
        "colab_type": "code",
        "id": "gsHJGimwxv4F",
        "colab": {}
      },
      "source": [
        "from google.colab import files\n",
        "# uploaded = files.upload()"
      ],
      "execution_count": 0,
      "outputs": []
    },
    {
      "cell_type": "markdown",
      "metadata": {
        "colab_type": "text",
        "id": "j4ABM1_VSgOF"
      },
      "source": [
        "#### Get myconfig.py\n",
        "The file `myconfig.py` has to be the identical during training and driving, therefore it makes sense to uplaod the `myconfig.py` which you are using on the car.\n",
        "\n",
        "> Note: In `myconfig.py` therer are parameters which control the training such as: \n",
        " \n",
        "\n",
        "```\n",
        "\n",
        " line parameter --type to the python manage.py train and drive commands.\n",
        "\n",
        " DEFAULT_MODEL_TYPE = 'linear'   (linear|categorical|rnn|imu|behavior|3d|localizer|latent)\n",
        "\n",
        " BATCH_SIZE = 128                how many records to use when doing one pass of gradient decent. Use a smaller number if your gpu is running out of memory.\n",
        "\n",
        " TRAIN_TEST_SPLIT = 0.8          what percent of records to use for training. the remaining used for validation.\n",
        "\n",
        " MAX_EPOCHS = 100                how many times to visit all records of your data\n",
        "\n",
        " SHOW_PLOT = True                would you like to see a pop up display of final loss?\n",
        "\n",
        " VEBOSE_TRAIN = True             would you like to see a progress bar with text during training?\n",
        "\n",
        " USE_EARLY_STOP = True           would you like to stop the training if we see it's not improving fit?\n",
        "\n",
        " EARLY_STOP_PATIENCE = 5         how many epochs to wait before no improvement\n",
        "\n",
        " MIN_DELTA = .0005               early stop will want this much loss change before calling it improved.\n",
        "\n",
        " PRINT_MODEL_SUMMARY = True      print layers and weights to stdout\n",
        "\n",
        " OPTIMIZER = None                adam, sgd, rmsprop, etc.. None accepts default\n",
        "\n",
        " LEARNING_RATE = 0.001           only used when OPTIMIZER specified\n",
        "\n",
        " LEARNING_RATE_DECAY = 0.0       only used when OPTIMIZER specified\n",
        "\n",
        " SEND_BEST_MODEL_TO_PI = False   change to true to automatically send best model during training\n",
        "\n",
        " CACHE_IMAGES = True             keep images in memory. will speed succesive epochs, but crater if not enough mem.\n",
        "\n",
        " \n",
        "\n",
        " PRUNE_CNN = False               This will remove weights from your model. The primary goal is to increase performance.\n",
        "\n",
        " PRUNE_PERCENT_TARGET = 75        The desired percentage of pruning.\n",
        "\n",
        " PRUNE_PERCENT_PER_ITERATION = 20  Percenge of pruning that is perform per iteration.\n",
        "\n",
        " PRUNE_VAL_LOSS_DEGRADATION_LIMIT = 0.2  The max amout of validation loss that is permitted during pruning.\n",
        "\n",
        " PRUNE_EVAL_PERCENT_OF_DATASET = .05   percent of dataset used to perform evaluation of model.\n",
        "RNN or 3D  \n",
        "SEQUENCE_LENGTH = 3             #some models use a number of images over time. This controls how many.  \n",
        "\n",
        "# # Region of interst cropping\n",
        "# # only supported in Categorical and Linear models.\n",
        "ROI_CROP_TOP = 0                    #the number of rows of pixels to ignore on the top of the image  \n",
        " ROI_CROP_BOTTOM = 0            #the number of rows of pixels to ignore on the bottom of the image \n",
        "```\n",
        "\n",
        "\n",
        " \n",
        "\n"
      ]
    },
    {
      "cell_type": "code",
      "metadata": {
        "colab_type": "code",
        "id": "qO5y5QlHSdWB",
        "outputId": "49cbf22c-3646-4048-f62e-e8d22c4ba182",
        "colab": {
          "base_uri": "https://localhost:8080/",
          "height": 34
        }
      },
      "source": [
        "%cd /content/mycar\n",
        "!cp /content/drive/My\\ Drive/myCar/myconfig.py ."
      ],
      "execution_count": 0,
      "outputs": [
        {
          "output_type": "stream",
          "text": [
            "/content/mycar\n"
          ],
          "name": "stdout"
        }
      ]
    },
    {
      "cell_type": "markdown",
      "metadata": {
        "colab_type": "text",
        "id": "wbv-bEt-v_IC"
      },
      "source": [
        "#### Upload pre-trained model\n",
        "Upload model in case you want to use a pre-trained model for transfer learning.\n",
        "To define which layers shall be trained and which shall be frozen set the parameters in `myconfig.py``\n",
        "\n",
        "Model transfer options\n",
        "\n",
        " When copying weights during a model transfer operation, should we freeze a certain number of layers\n",
        "\n",
        " to the incoming weights and not allow them to change during training?\n",
        "\n",
        "```\n",
        "FREEZE_LAYERS = False               #default False will allow all layers to be modified by training\n",
        "NUM_LAST_LAYERS_TO_TRAIN = 7        #when freezing layers, how many layers from the last should be allowed to train?\n",
        "\n",
        " ```\n",
        "\n"
      ]
    },
    {
      "cell_type": "code",
      "metadata": {
        "colab_type": "code",
        "id": "UxE5pHxkwNZo",
        "outputId": "0940efe3-9848-43f9-e34c-8871713f9749",
        "colab": {
          "base_uri": "https://localhost:8080/",
          "height": 34
        }
      },
      "source": [
        "%cd /content/mycar/models\n",
        "!cp /content/drive/My\\ Drive/myCar/base_linear.h5 ."
      ],
      "execution_count": 0,
      "outputs": [
        {
          "output_type": "stream",
          "text": [
            "/content/mycar/models\n"
          ],
          "name": "stdout"
        }
      ]
    },
    {
      "cell_type": "markdown",
      "metadata": {
        "colab_type": "text",
        "id": "eyPsgV5KyFkg"
      },
      "source": [
        "To check whether data are available lets look at an image"
      ]
    },
    {
      "cell_type": "markdown",
      "metadata": {
        "id": "A1Y_btMs6FyH",
        "colab_type": "text"
      },
      "source": [
        "# Train your model\n",
        "There are several types of modes available:\n",
        "\n",
        " - linear\n",
        " - categorical\n",
        " - rnn\n",
        " - imu\n",
        " - behavior\n",
        " - 3d\n",
        " - localizer\n",
        " And you can use pre- trained models \n",
        "- `[--transfer=<model>]`"
      ]
    },
    {
      "cell_type": "markdown",
      "metadata": {
        "colab_type": "text",
        "id": "ESiFEnkQ6WXp"
      },
      "source": [
        "## Transfer training of model\n",
        "<a id='train_model'></a>\n",
        "> Note: You can use a pre-tained model and use transfer learning"
      ]
    },
    {
      "cell_type": "markdown",
      "metadata": {
        "colab_type": "text",
        "id": "nRQ2eq6H84vl"
      },
      "source": [
        "Dont forget to set the variables in config.py  \n",
        "\n",
        "\n",
        "```\n",
        "FREEZE_LAYERS = True  \n",
        "`#default False will allow all layers to be modified by training\n",
        "\n",
        "NUM_LAST_LAYERS_TO_TRAIN = 7  \n",
        "`#when freezing layers, how many layers from the last should be allowed to train?\n",
        "```\n",
        "\n",
        "\n",
        "\n"
      ]
    },
    {
      "cell_type": "code",
      "metadata": {
        "colab_type": "code",
        "id": "0YHhDGJYvZ5u",
        "outputId": "dce25de1-0b7a-4bc2-8b83-89526c3b7f95",
        "colab": {
          "base_uri": "https://localhost:8080/",
          "height": 1000
        }
      },
      "source": [
        "!python /content/mycar/manage.py train  --type=linear --transfer=/content/mycar/models/base_linear.h5  --model=/content/mycar/models/mypilot.h5\n"
      ],
      "execution_count": 0,
      "outputs": [
        {
          "output_type": "stream",
          "text": [
            "using donkey v3.1.1 ...\n",
            "loading config file: /content/mycar/config.py\n",
            "loading personal config over-rides\n",
            "\n",
            "config loaded\n",
            "\"get_model_by_type\" model Type is: linear\n",
            "WARNING:tensorflow:From /usr/local/lib/python3.6/dist-packages/tensorflow_core/python/ops/resource_variable_ops.py:1630: calling BaseResourceVariable.__init__ (from tensorflow.python.ops.resource_variable_ops) with constraint is deprecated and will be removed in a future version.\n",
            "Instructions for updating:\n",
            "If using Keras pass *_constraint arguments to layers.\n",
            "training with model type <class 'donkeycar.parts.keras.KerasLinear'>\n",
            "loading weights from model /content/mycar/models/base_linear.h5\n",
            "WARNING:tensorflow:From /usr/local/lib/python3.6/dist-packages/tensorflow_core/python/ops/init_ops.py:97: calling Zeros.__init__ (from tensorflow.python.ops.init_ops) with dtype is deprecated and will be removed in a future version.\n",
            "Instructions for updating:\n",
            "Call initializer instance with the dtype argument instead of passing it to the constructor\n",
            "WARNING:tensorflow:From /usr/local/lib/python3.6/dist-packages/tensorflow_core/python/ops/init_ops.py:97: calling Ones.__init__ (from tensorflow.python.ops.init_ops) with dtype is deprecated and will be removed in a future version.\n",
            "Instructions for updating:\n",
            "Call initializer instance with the dtype argument instead of passing it to the constructor\n",
            "WARNING:tensorflow:From /usr/local/lib/python3.6/dist-packages/tensorflow_core/python/ops/init_ops.py:97: calling GlorotUniform.__init__ (from tensorflow.python.ops.init_ops) with dtype is deprecated and will be removed in a future version.\n",
            "Instructions for updating:\n",
            "Call initializer instance with the dtype argument instead of passing it to the constructor\n",
            "2020-03-01 20:15:10.883730: I tensorflow/stream_executor/platform/default/dso_loader.cc:44] Successfully opened dynamic library libcuda.so.1\n",
            "2020-03-01 20:15:10.947706: I tensorflow/stream_executor/cuda/cuda_gpu_executor.cc:983] successful NUMA node read from SysFS had negative value (-1), but there must be at least one NUMA node, so returning NUMA node zero\n",
            "2020-03-01 20:15:10.948244: I tensorflow/core/common_runtime/gpu/gpu_device.cc:1618] Found device 0 with properties: \n",
            "name: Tesla P4 major: 6 minor: 1 memoryClockRate(GHz): 1.1135\n",
            "pciBusID: 0000:00:04.0\n",
            "2020-03-01 20:15:10.959625: I tensorflow/stream_executor/platform/default/dso_loader.cc:44] Successfully opened dynamic library libcudart.so.10.1\n",
            "2020-03-01 20:15:11.211248: I tensorflow/stream_executor/platform/default/dso_loader.cc:44] Successfully opened dynamic library libcublas.so.10\n",
            "2020-03-01 20:15:11.355358: I tensorflow/stream_executor/platform/default/dso_loader.cc:44] Successfully opened dynamic library libcufft.so.10\n",
            "2020-03-01 20:15:11.375728: I tensorflow/stream_executor/platform/default/dso_loader.cc:44] Successfully opened dynamic library libcurand.so.10\n",
            "2020-03-01 20:15:11.655257: I tensorflow/stream_executor/platform/default/dso_loader.cc:44] Successfully opened dynamic library libcusolver.so.10\n",
            "2020-03-01 20:15:11.674134: I tensorflow/stream_executor/platform/default/dso_loader.cc:44] Successfully opened dynamic library libcusparse.so.10\n",
            "2020-03-01 20:15:12.199157: I tensorflow/stream_executor/platform/default/dso_loader.cc:44] Successfully opened dynamic library libcudnn.so.7\n",
            "2020-03-01 20:15:12.199319: I tensorflow/stream_executor/cuda/cuda_gpu_executor.cc:983] successful NUMA node read from SysFS had negative value (-1), but there must be at least one NUMA node, so returning NUMA node zero\n",
            "2020-03-01 20:15:12.200012: I tensorflow/stream_executor/cuda/cuda_gpu_executor.cc:983] successful NUMA node read from SysFS had negative value (-1), but there must be at least one NUMA node, so returning NUMA node zero\n",
            "2020-03-01 20:15:12.200537: I tensorflow/core/common_runtime/gpu/gpu_device.cc:1746] Adding visible gpu devices: 0\n",
            "2020-03-01 20:15:12.201047: I tensorflow/core/platform/cpu_feature_guard.cc:142] Your CPU supports instructions that this TensorFlow binary was not compiled to use: AVX512F\n",
            "2020-03-01 20:15:12.252078: I tensorflow/core/platform/profile_utils/cpu_utils.cc:94] CPU Frequency: 2000170000 Hz\n",
            "2020-03-01 20:15:12.253836: I tensorflow/compiler/xla/service/service.cc:168] XLA service 0x6466fc0 initialized for platform Host (this does not guarantee that XLA will be used). Devices:\n",
            "2020-03-01 20:15:12.253872: I tensorflow/compiler/xla/service/service.cc:176]   StreamExecutor device (0): Host, Default Version\n",
            "2020-03-01 20:15:12.376300: I tensorflow/stream_executor/cuda/cuda_gpu_executor.cc:983] successful NUMA node read from SysFS had negative value (-1), but there must be at least one NUMA node, so returning NUMA node zero\n",
            "2020-03-01 20:15:12.376808: I tensorflow/compiler/xla/service/service.cc:168] XLA service 0x6467180 initialized for platform CUDA (this does not guarantee that XLA will be used). Devices:\n",
            "2020-03-01 20:15:12.376842: I tensorflow/compiler/xla/service/service.cc:176]   StreamExecutor device (0): Tesla P4, Compute Capability 6.1\n",
            "2020-03-01 20:15:12.378134: I tensorflow/stream_executor/cuda/cuda_gpu_executor.cc:983] successful NUMA node read from SysFS had negative value (-1), but there must be at least one NUMA node, so returning NUMA node zero\n",
            "2020-03-01 20:15:12.378502: I tensorflow/core/common_runtime/gpu/gpu_device.cc:1618] Found device 0 with properties: \n",
            "name: Tesla P4 major: 6 minor: 1 memoryClockRate(GHz): 1.1135\n",
            "pciBusID: 0000:00:04.0\n",
            "2020-03-01 20:15:12.378563: I tensorflow/stream_executor/platform/default/dso_loader.cc:44] Successfully opened dynamic library libcudart.so.10.1\n",
            "2020-03-01 20:15:12.378589: I tensorflow/stream_executor/platform/default/dso_loader.cc:44] Successfully opened dynamic library libcublas.so.10\n",
            "2020-03-01 20:15:12.378614: I tensorflow/stream_executor/platform/default/dso_loader.cc:44] Successfully opened dynamic library libcufft.so.10\n",
            "2020-03-01 20:15:12.378637: I tensorflow/stream_executor/platform/default/dso_loader.cc:44] Successfully opened dynamic library libcurand.so.10\n",
            "2020-03-01 20:15:12.378659: I tensorflow/stream_executor/platform/default/dso_loader.cc:44] Successfully opened dynamic library libcusolver.so.10\n",
            "2020-03-01 20:15:12.378681: I tensorflow/stream_executor/platform/default/dso_loader.cc:44] Successfully opened dynamic library libcusparse.so.10\n",
            "2020-03-01 20:15:12.378704: I tensorflow/stream_executor/platform/default/dso_loader.cc:44] Successfully opened dynamic library libcudnn.so.7\n",
            "2020-03-01 20:15:12.378771: I tensorflow/stream_executor/cuda/cuda_gpu_executor.cc:983] successful NUMA node read from SysFS had negative value (-1), but there must be at least one NUMA node, so returning NUMA node zero\n",
            "2020-03-01 20:15:12.379204: I tensorflow/stream_executor/cuda/cuda_gpu_executor.cc:983] successful NUMA node read from SysFS had negative value (-1), but there must be at least one NUMA node, so returning NUMA node zero\n",
            "2020-03-01 20:15:12.379549: I tensorflow/core/common_runtime/gpu/gpu_device.cc:1746] Adding visible gpu devices: 0\n",
            "2020-03-01 20:15:12.384332: I tensorflow/stream_executor/platform/default/dso_loader.cc:44] Successfully opened dynamic library libcudart.so.10.1\n",
            "2020-03-01 20:15:12.385363: I tensorflow/core/common_runtime/gpu/gpu_device.cc:1159] Device interconnect StreamExecutor with strength 1 edge matrix:\n",
            "2020-03-01 20:15:12.385397: I tensorflow/core/common_runtime/gpu/gpu_device.cc:1165]      0 \n",
            "2020-03-01 20:15:12.385410: I tensorflow/core/common_runtime/gpu/gpu_device.cc:1178] 0:   N \n",
            "2020-03-01 20:15:12.386633: I tensorflow/stream_executor/cuda/cuda_gpu_executor.cc:983] successful NUMA node read from SysFS had negative value (-1), but there must be at least one NUMA node, so returning NUMA node zero\n",
            "2020-03-01 20:15:12.387098: I tensorflow/stream_executor/cuda/cuda_gpu_executor.cc:983] successful NUMA node read from SysFS had negative value (-1), but there must be at least one NUMA node, so returning NUMA node zero\n",
            "2020-03-01 20:15:12.387514: W tensorflow/core/common_runtime/gpu/gpu_bfc_allocator.cc:39] Overriding allow_growth setting because the TF_FORCE_GPU_ALLOW_GROWTH environment variable is set. Original config value was 0.\n",
            "2020-03-01 20:15:12.387563: I tensorflow/core/common_runtime/gpu/gpu_device.cc:1304] Created TensorFlow device (/job:localhost/replica:0/task:0/device:GPU:0 with 7123 MB memory) -> physical GPU (device: 0, name: Tesla P4, pci bus id: 0000:00:04.0, compute capability: 6.1)\n",
            "Model: \"model\"\n",
            "__________________________________________________________________________________________________\n",
            "Layer (type)                    Output Shape         Param #     Connected to                     \n",
            "==================================================================================================\n",
            "img_in (InputLayer)             [(None, 120, 160, 3) 0                                            \n",
            "__________________________________________________________________________________________________\n",
            "cropping2d (Cropping2D)         (None, 120, 160, 3)  0           img_in[0][0]                     \n",
            "__________________________________________________________________________________________________\n",
            "batch_normalization_v1 (BatchNo (None, 120, 160, 3)  12          cropping2d[0][0]                 \n",
            "__________________________________________________________________________________________________\n",
            "conv2d_1 (Conv2D)               (None, 58, 78, 24)   1824        batch_normalization_v1[0][0]     \n",
            "__________________________________________________________________________________________________\n",
            "dropout (Dropout)               (None, 58, 78, 24)   0           conv2d_1[0][0]                   \n",
            "__________________________________________________________________________________________________\n",
            "conv2d_2 (Conv2D)               (None, 27, 37, 32)   19232       dropout[0][0]                    \n",
            "__________________________________________________________________________________________________\n",
            "dropout_1 (Dropout)             (None, 27, 37, 32)   0           conv2d_2[0][0]                   \n",
            "__________________________________________________________________________________________________\n",
            "conv2d_3 (Conv2D)               (None, 12, 17, 64)   51264       dropout_1[0][0]                  \n",
            "__________________________________________________________________________________________________\n",
            "dropout_2 (Dropout)             (None, 12, 17, 64)   0           conv2d_3[0][0]                   \n",
            "__________________________________________________________________________________________________\n",
            "conv2d_4 (Conv2D)               (None, 10, 15, 64)   36928       dropout_2[0][0]                  \n",
            "__________________________________________________________________________________________________\n",
            "dropout_3 (Dropout)             (None, 10, 15, 64)   0           conv2d_4[0][0]                   \n",
            "__________________________________________________________________________________________________\n",
            "conv2d_5 (Conv2D)               (None, 8, 13, 64)    36928       dropout_3[0][0]                  \n",
            "__________________________________________________________________________________________________\n",
            "dropout_4 (Dropout)             (None, 8, 13, 64)    0           conv2d_5[0][0]                   \n",
            "__________________________________________________________________________________________________\n",
            "flattened (Flatten)             (None, 6656)         0           dropout_4[0][0]                  \n",
            "__________________________________________________________________________________________________\n",
            "dense (Dense)                   (None, 100)          665700      flattened[0][0]                  \n",
            "__________________________________________________________________________________________________\n",
            "dropout_5 (Dropout)             (None, 100)          0           dense[0][0]                      \n",
            "__________________________________________________________________________________________________\n",
            "dense_1 (Dense)                 (None, 50)           5050        dropout_5[0][0]                  \n",
            "__________________________________________________________________________________________________\n",
            "dropout_6 (Dropout)             (None, 50)           0           dense_1[0][0]                    \n",
            "__________________________________________________________________________________________________\n",
            "n_outputs0 (Dense)              (None, 1)            51          dropout_6[0][0]                  \n",
            "__________________________________________________________________________________________________\n",
            "n_outputs1 (Dense)              (None, 1)            51          dropout_6[0][0]                  \n",
            "==================================================================================================\n",
            "Total params: 817,040\n",
            "Trainable params: 817,034\n",
            "Non-trainable params: 6\n",
            "__________________________________________________________________________________________________\n",
            "None\n",
            "found 0 pickles writing json records and images in tub /content/mycar/data/tubVaihingenIIICleaned200126\n",
            "/content/mycar/data/tubVaihingenIIICleaned200126\n",
            "collating 14234 records ...\n",
            "train: 11387, val: 2847\n",
            "total records: 14234\n",
            "steps_per_epoch 177\n",
            "Epoch 1/100\n",
            "2020-03-01 20:15:22.207108: I tensorflow/stream_executor/platform/default/dso_loader.cc:44] Successfully opened dynamic library libcublas.so.10\n",
            "2020-03-01 20:15:23.704226: I tensorflow/stream_executor/platform/default/dso_loader.cc:44] Successfully opened dynamic library libcudnn.so.7\n",
            "176/177 [============================>.] - ETA: 0s - loss: 0.3655 - n_outputs0_loss: 0.2319 - n_outputs1_loss: 0.1336Epoch 1/100\n",
            " 44/177 [======>.......................] - ETA: 6s - loss: 0.6712 - n_outputs0_loss: 0.6156 - n_outputs1_loss: 0.0556\n",
            "Epoch 00001: val_loss improved from inf to 0.67117, saving model to /content/mycar/models/mypilot.h5\n",
            "177/177 [==============================] - 20s 110ms/step - loss: 0.3644 - n_outputs0_loss: 0.2315 - n_outputs1_loss: 0.1329 - val_loss: 0.6712 - val_n_outputs0_loss: 0.6156 - val_n_outputs1_loss: 0.0556\n",
            "Epoch 2/100\n",
            "175/177 [============================>.] - ETA: 0s - loss: 0.1945 - n_outputs0_loss: 0.1760 - n_outputs1_loss: 0.0186Epoch 1/100\n",
            " 41/177 [=====>........................] - ETA: 1s - loss: 0.6794 - n_outputs0_loss: 0.6145 - n_outputs1_loss: 0.0649\n",
            "Epoch 00002: val_loss did not improve from 0.67117\n",
            "177/177 [==============================] - 7s 40ms/step - loss: 0.1942 - n_outputs0_loss: 0.1755 - n_outputs1_loss: 0.0187 - val_loss: 0.6821 - val_n_outputs0_loss: 0.6175 - val_n_outputs1_loss: 0.0646\n",
            "Epoch 3/100\n",
            "175/177 [============================>.] - ETA: 0s - loss: 0.1753 - n_outputs0_loss: 0.1604 - n_outputs1_loss: 0.0149Epoch 1/100\n",
            " 41/177 [=====>........................] - ETA: 1s - loss: 0.6618 - n_outputs0_loss: 0.6397 - n_outputs1_loss: 0.0221\n",
            "Epoch 00003: val_loss improved from 0.67117 to 0.65910, saving model to /content/mycar/models/mypilot.h5\n",
            "177/177 [==============================] - 7s 41ms/step - loss: 0.1754 - n_outputs0_loss: 0.1603 - n_outputs1_loss: 0.0151 - val_loss: 0.6591 - val_n_outputs0_loss: 0.6367 - val_n_outputs1_loss: 0.0224\n",
            "Epoch 4/100\n",
            "175/177 [============================>.] - ETA: 0s - loss: 0.1680 - n_outputs0_loss: 0.1541 - n_outputs1_loss: 0.0140Epoch 1/100\n",
            " 41/177 [=====>........................] - ETA: 1s - loss: 0.6526 - n_outputs0_loss: 0.6090 - n_outputs1_loss: 0.0437\n",
            "Epoch 00004: val_loss improved from 0.65910 to 0.65629, saving model to /content/mycar/models/mypilot.h5\n",
            "177/177 [==============================] - 7s 41ms/step - loss: 0.1682 - n_outputs0_loss: 0.1543 - n_outputs1_loss: 0.0139 - val_loss: 0.6563 - val_n_outputs0_loss: 0.6137 - val_n_outputs1_loss: 0.0426\n",
            "Epoch 5/100\n",
            "175/177 [============================>.] - ETA: 0s - loss: 0.1555 - n_outputs0_loss: 0.1425 - n_outputs1_loss: 0.0131Epoch 1/100\n",
            " 44/177 [======>.......................] - ETA: 1s - loss: 0.3074 - n_outputs0_loss: 0.2934 - n_outputs1_loss: 0.0140\n",
            "Epoch 00005: val_loss improved from 0.65629 to 0.30737, saving model to /content/mycar/models/mypilot.h5\n",
            "177/177 [==============================] - 7s 42ms/step - loss: 0.1554 - n_outputs0_loss: 0.1424 - n_outputs1_loss: 0.0130 - val_loss: 0.3074 - val_n_outputs0_loss: 0.2934 - val_n_outputs1_loss: 0.0140\n",
            "Epoch 6/100\n",
            "175/177 [============================>.] - ETA: 0s - loss: 0.1444 - n_outputs0_loss: 0.1319 - n_outputs1_loss: 0.0125Epoch 1/100\n",
            " 41/177 [=====>........................] - ETA: 1s - loss: 0.1706 - n_outputs0_loss: 0.1567 - n_outputs1_loss: 0.0139\n",
            "Epoch 00006: val_loss improved from 0.30737 to 0.16886, saving model to /content/mycar/models/mypilot.h5\n",
            "177/177 [==============================] - 7s 42ms/step - loss: 0.1445 - n_outputs0_loss: 0.1320 - n_outputs1_loss: 0.0124 - val_loss: 0.1689 - val_n_outputs0_loss: 0.1557 - val_n_outputs1_loss: 0.0132\n",
            "Epoch 7/100\n",
            "175/177 [============================>.] - ETA: 0s - loss: 0.1409 - n_outputs0_loss: 0.1288 - n_outputs1_loss: 0.0121Epoch 1/100\n",
            " 43/177 [======>.......................] - ETA: 1s - loss: 0.1527 - n_outputs0_loss: 0.1426 - n_outputs1_loss: 0.0101\n",
            "Epoch 00007: val_loss improved from 0.16886 to 0.15216, saving model to /content/mycar/models/mypilot.h5\n",
            "177/177 [==============================] - 7s 42ms/step - loss: 0.1404 - n_outputs0_loss: 0.1283 - n_outputs1_loss: 0.0120 - val_loss: 0.1522 - val_n_outputs0_loss: 0.1422 - val_n_outputs1_loss: 0.0099\n",
            "Epoch 8/100\n",
            "175/177 [============================>.] - ETA: 0s - loss: 0.1314 - n_outputs0_loss: 0.1197 - n_outputs1_loss: 0.0117Epoch 1/100\n",
            " 41/177 [=====>........................] - ETA: 1s - loss: 0.1412 - n_outputs0_loss: 0.1300 - n_outputs1_loss: 0.0111\n",
            "Epoch 00008: val_loss improved from 0.15216 to 0.14233, saving model to /content/mycar/models/mypilot.h5\n",
            "177/177 [==============================] - 7s 41ms/step - loss: 0.1318 - n_outputs0_loss: 0.1202 - n_outputs1_loss: 0.0117 - val_loss: 0.1423 - val_n_outputs0_loss: 0.1312 - val_n_outputs1_loss: 0.0112\n",
            "Epoch 9/100\n",
            "175/177 [============================>.] - ETA: 0s - loss: 0.1284 - n_outputs0_loss: 0.1176 - n_outputs1_loss: 0.0108Epoch 1/100\n",
            " 41/177 [=====>........................] - ETA: 1s - loss: 0.1540 - n_outputs0_loss: 0.1463 - n_outputs1_loss: 0.0077\n",
            "Epoch 00009: val_loss did not improve from 0.14233\n",
            "177/177 [==============================] - 7s 40ms/step - loss: 0.1285 - n_outputs0_loss: 0.1177 - n_outputs1_loss: 0.0108 - val_loss: 0.1513 - val_n_outputs0_loss: 0.1438 - val_n_outputs1_loss: 0.0076\n",
            "Epoch 10/100\n",
            "175/177 [============================>.] - ETA: 0s - loss: 0.1196 - n_outputs0_loss: 0.1093 - n_outputs1_loss: 0.0103Epoch 1/100\n",
            " 44/177 [======>.......................] - ETA: 1s - loss: 0.1441 - n_outputs0_loss: 0.1379 - n_outputs1_loss: 0.0062\n",
            "Epoch 00010: val_loss did not improve from 0.14233\n",
            "177/177 [==============================] - 7s 40ms/step - loss: 0.1195 - n_outputs0_loss: 0.1092 - n_outputs1_loss: 0.0103 - val_loss: 0.1441 - val_n_outputs0_loss: 0.1379 - val_n_outputs1_loss: 0.0062\n",
            "Epoch 11/100\n",
            "175/177 [============================>.] - ETA: 0s - loss: 0.1143 - n_outputs0_loss: 0.1052 - n_outputs1_loss: 0.0091Epoch 1/100\n",
            " 44/177 [======>.......................] - ETA: 1s - loss: 0.1321 - n_outputs0_loss: 0.1267 - n_outputs1_loss: 0.0054\n",
            "Epoch 00011: val_loss improved from 0.14233 to 0.13208, saving model to /content/mycar/models/mypilot.h5\n",
            "177/177 [==============================] - 7s 41ms/step - loss: 0.1149 - n_outputs0_loss: 0.1057 - n_outputs1_loss: 0.0092 - val_loss: 0.1321 - val_n_outputs0_loss: 0.1267 - val_n_outputs1_loss: 0.0054\n",
            "Epoch 12/100\n",
            "175/177 [============================>.] - ETA: 0s - loss: 0.1106 - n_outputs0_loss: 0.1008 - n_outputs1_loss: 0.0098Epoch 1/100\n",
            " 41/177 [=====>........................] - ETA: 1s - loss: 0.1284 - n_outputs0_loss: 0.1249 - n_outputs1_loss: 0.0035\n",
            "Epoch 00012: val_loss improved from 0.13208 to 0.12771, saving model to /content/mycar/models/mypilot.h5\n",
            "177/177 [==============================] - 7s 42ms/step - loss: 0.1104 - n_outputs0_loss: 0.1006 - n_outputs1_loss: 0.0098 - val_loss: 0.1277 - val_n_outputs0_loss: 0.1243 - val_n_outputs1_loss: 0.0034\n",
            "Epoch 13/100\n",
            "175/177 [============================>.] - ETA: 0s - loss: 0.1059 - n_outputs0_loss: 0.0968 - n_outputs1_loss: 0.0091Epoch 1/100\n",
            " 43/177 [======>.......................] - ETA: 1s - loss: 0.1298 - n_outputs0_loss: 0.1235 - n_outputs1_loss: 0.0063\n",
            "Epoch 00013: val_loss did not improve from 0.12771\n",
            "177/177 [==============================] - 7s 40ms/step - loss: 0.1058 - n_outputs0_loss: 0.0968 - n_outputs1_loss: 0.0091 - val_loss: 0.1299 - val_n_outputs0_loss: 0.1237 - val_n_outputs1_loss: 0.0062\n",
            "Epoch 14/100\n",
            "175/177 [============================>.] - ETA: 0s - loss: 0.1016 - n_outputs0_loss: 0.0927 - n_outputs1_loss: 0.0089Epoch 1/100\n",
            " 43/177 [======>.......................] - ETA: 1s - loss: 0.1320 - n_outputs0_loss: 0.1264 - n_outputs1_loss: 0.0056\n",
            "Epoch 00014: val_loss did not improve from 0.12771\n",
            "177/177 [==============================] - 7s 40ms/step - loss: 0.1016 - n_outputs0_loss: 0.0928 - n_outputs1_loss: 0.0088 - val_loss: 0.1333 - val_n_outputs0_loss: 0.1278 - val_n_outputs1_loss: 0.0055\n",
            "Epoch 15/100\n",
            "175/177 [============================>.] - ETA: 0s - loss: 0.0953 - n_outputs0_loss: 0.0867 - n_outputs1_loss: 0.0086Epoch 1/100\n",
            " 43/177 [======>.......................] - ETA: 1s - loss: 0.1327 - n_outputs0_loss: 0.1282 - n_outputs1_loss: 0.0045\n",
            "Epoch 00015: val_loss did not improve from 0.12771\n",
            "177/177 [==============================] - 7s 40ms/step - loss: 0.0952 - n_outputs0_loss: 0.0867 - n_outputs1_loss: 0.0086 - val_loss: 0.1324 - val_n_outputs0_loss: 0.1280 - val_n_outputs1_loss: 0.0045\n",
            "Epoch 16/100\n",
            "175/177 [============================>.] - ETA: 0s - loss: 0.0932 - n_outputs0_loss: 0.0850 - n_outputs1_loss: 0.0082Epoch 1/100\n",
            " 43/177 [======>.......................] - ETA: 1s - loss: 0.1232 - n_outputs0_loss: 0.1163 - n_outputs1_loss: 0.0068\n",
            "Epoch 00016: val_loss improved from 0.12771 to 0.12196, saving model to /content/mycar/models/mypilot.h5\n",
            "177/177 [==============================] - 7s 42ms/step - loss: 0.0933 - n_outputs0_loss: 0.0851 - n_outputs1_loss: 0.0082 - val_loss: 0.1220 - val_n_outputs0_loss: 0.1152 - val_n_outputs1_loss: 0.0068\n",
            "Epoch 17/100\n",
            "175/177 [============================>.] - ETA: 0s - loss: 0.0903 - n_outputs0_loss: 0.0825 - n_outputs1_loss: 0.0078Epoch 1/100\n",
            " 44/177 [======>.......................] - ETA: 1s - loss: 0.1336 - n_outputs0_loss: 0.1273 - n_outputs1_loss: 0.0063\n",
            "Epoch 00017: val_loss did not improve from 0.12196\n",
            "177/177 [==============================] - 7s 40ms/step - loss: 0.0904 - n_outputs0_loss: 0.0826 - n_outputs1_loss: 0.0078 - val_loss: 0.1336 - val_n_outputs0_loss: 0.1273 - val_n_outputs1_loss: 0.0063\n",
            "Epoch 18/100\n",
            "175/177 [============================>.] - ETA: 0s - loss: 0.0875 - n_outputs0_loss: 0.0799 - n_outputs1_loss: 0.0076Epoch 1/100\n",
            " 43/177 [======>.......................] - ETA: 1s - loss: 0.1270 - n_outputs0_loss: 0.1214 - n_outputs1_loss: 0.0056\n",
            "Epoch 00018: val_loss did not improve from 0.12196\n",
            "177/177 [==============================] - 7s 40ms/step - loss: 0.0877 - n_outputs0_loss: 0.0801 - n_outputs1_loss: 0.0075 - val_loss: 0.1264 - val_n_outputs0_loss: 0.1209 - val_n_outputs1_loss: 0.0055\n",
            "Epoch 19/100\n",
            "175/177 [============================>.] - ETA: 0s - loss: 0.0853 - n_outputs0_loss: 0.0777 - n_outputs1_loss: 0.0076Epoch 1/100\n",
            " 41/177 [=====>........................] - ETA: 1s - loss: 0.1246 - n_outputs0_loss: 0.1173 - n_outputs1_loss: 0.0073\n",
            "Epoch 00019: val_loss did not improve from 0.12196\n",
            "177/177 [==============================] - 7s 40ms/step - loss: 0.0852 - n_outputs0_loss: 0.0777 - n_outputs1_loss: 0.0075 - val_loss: 0.1235 - val_n_outputs0_loss: 0.1157 - val_n_outputs1_loss: 0.0078\n",
            "Epoch 20/100\n",
            "175/177 [============================>.] - ETA: 0s - loss: 0.0833 - n_outputs0_loss: 0.0759 - n_outputs1_loss: 0.0074Epoch 1/100\n",
            " 44/177 [======>.......................] - ETA: 1s - loss: 0.1280 - n_outputs0_loss: 0.1212 - n_outputs1_loss: 0.0068\n",
            "Epoch 00020: val_loss did not improve from 0.12196\n",
            "177/177 [==============================] - 7s 40ms/step - loss: 0.0831 - n_outputs0_loss: 0.0757 - n_outputs1_loss: 0.0074 - val_loss: 0.1280 - val_n_outputs0_loss: 0.1212 - val_n_outputs1_loss: 0.0068\n",
            "Epoch 21/100\n",
            "175/177 [============================>.] - ETA: 0s - loss: 0.0799 - n_outputs0_loss: 0.0728 - n_outputs1_loss: 0.0072Epoch 1/100\n",
            " 44/177 [======>.......................] - ETA: 1s - loss: 0.1210 - n_outputs0_loss: 0.1159 - n_outputs1_loss: 0.0051\n",
            "Epoch 00021: val_loss improved from 0.12196 to 0.12104, saving model to /content/mycar/models/mypilot.h5\n",
            "177/177 [==============================] - 7s 41ms/step - loss: 0.0800 - n_outputs0_loss: 0.0728 - n_outputs1_loss: 0.0071 - val_loss: 0.1210 - val_n_outputs0_loss: 0.1159 - val_n_outputs1_loss: 0.0051\n",
            "Epoch 22/100\n",
            "175/177 [============================>.] - ETA: 0s - loss: 0.0781 - n_outputs0_loss: 0.0712 - n_outputs1_loss: 0.0069Epoch 1/100\n",
            " 42/177 [======>.......................] - ETA: 1s - loss: 0.1234 - n_outputs0_loss: 0.1171 - n_outputs1_loss: 0.0062\n",
            "Epoch 00022: val_loss did not improve from 0.12104\n",
            "177/177 [==============================] - 7s 40ms/step - loss: 0.0784 - n_outputs0_loss: 0.0716 - n_outputs1_loss: 0.0069 - val_loss: 0.1247 - val_n_outputs0_loss: 0.1187 - val_n_outputs1_loss: 0.0060\n",
            "Epoch 23/100\n",
            "175/177 [============================>.] - ETA: 0s - loss: 0.0753 - n_outputs0_loss: 0.0683 - n_outputs1_loss: 0.0070Epoch 1/100\n",
            " 40/177 [=====>........................] - ETA: 1s - loss: 0.1234 - n_outputs0_loss: 0.1173 - n_outputs1_loss: 0.0062\n",
            "Epoch 00023: val_loss did not improve from 0.12104\n",
            "177/177 [==============================] - 7s 40ms/step - loss: 0.0755 - n_outputs0_loss: 0.0686 - n_outputs1_loss: 0.0069 - val_loss: 0.1263 - val_n_outputs0_loss: 0.1206 - val_n_outputs1_loss: 0.0057\n",
            "Epoch 24/100\n",
            "175/177 [============================>.] - ETA: 0s - loss: 0.0745 - n_outputs0_loss: 0.0680 - n_outputs1_loss: 0.0065Epoch 1/100\n",
            " 43/177 [======>.......................] - ETA: 1s - loss: 0.1170 - n_outputs0_loss: 0.1110 - n_outputs1_loss: 0.0060\n",
            "Epoch 00024: val_loss improved from 0.12104 to 0.11585, saving model to /content/mycar/models/mypilot.h5\n",
            "177/177 [==============================] - 7s 42ms/step - loss: 0.0746 - n_outputs0_loss: 0.0680 - n_outputs1_loss: 0.0065 - val_loss: 0.1159 - val_n_outputs0_loss: 0.1100 - val_n_outputs1_loss: 0.0059\n",
            "Epoch 25/100\n",
            "175/177 [============================>.] - ETA: 0s - loss: 0.0713 - n_outputs0_loss: 0.0647 - n_outputs1_loss: 0.0066Epoch 1/100\n",
            " 41/177 [=====>........................] - ETA: 1s - loss: 0.1176 - n_outputs0_loss: 0.1096 - n_outputs1_loss: 0.0080\n",
            "Epoch 00025: val_loss did not improve from 0.11585\n",
            "177/177 [==============================] - 7s 41ms/step - loss: 0.0714 - n_outputs0_loss: 0.0649 - n_outputs1_loss: 0.0066 - val_loss: 0.1177 - val_n_outputs0_loss: 0.1100 - val_n_outputs1_loss: 0.0078\n",
            "Epoch 26/100\n",
            "175/177 [============================>.] - ETA: 0s - loss: 0.0685 - n_outputs0_loss: 0.0624 - n_outputs1_loss: 0.0061Epoch 1/100\n",
            " 41/177 [=====>........................] - ETA: 1s - loss: 0.1245 - n_outputs0_loss: 0.1176 - n_outputs1_loss: 0.0069\n",
            "Epoch 00026: val_loss did not improve from 0.11585\n",
            "177/177 [==============================] - 7s 40ms/step - loss: 0.0683 - n_outputs0_loss: 0.0622 - n_outputs1_loss: 0.0062 - val_loss: 0.1233 - val_n_outputs0_loss: 0.1159 - val_n_outputs1_loss: 0.0074\n",
            "Epoch 27/100\n",
            "175/177 [============================>.] - ETA: 0s - loss: 0.0681 - n_outputs0_loss: 0.0619 - n_outputs1_loss: 0.0062Epoch 1/100\n",
            " 42/177 [======>.......................] - ETA: 1s - loss: 0.1254 - n_outputs0_loss: 0.1200 - n_outputs1_loss: 0.0054\n",
            "Epoch 00027: val_loss did not improve from 0.11585\n",
            "177/177 [==============================] - 7s 40ms/step - loss: 0.0680 - n_outputs0_loss: 0.0618 - n_outputs1_loss: 0.0062 - val_loss: 0.1232 - val_n_outputs0_loss: 0.1178 - val_n_outputs1_loss: 0.0054\n",
            "Epoch 28/100\n",
            "175/177 [============================>.] - ETA: 0s - loss: 0.0651 - n_outputs0_loss: 0.0592 - n_outputs1_loss: 0.0059Epoch 1/100\n",
            " 41/177 [=====>........................] - ETA: 1s - loss: 0.1195 - n_outputs0_loss: 0.1108 - n_outputs1_loss: 0.0087\n",
            "Epoch 00028: val_loss did not improve from 0.11585\n",
            "177/177 [==============================] - 7s 40ms/step - loss: 0.0651 - n_outputs0_loss: 0.0592 - n_outputs1_loss: 0.0059 - val_loss: 0.1193 - val_n_outputs0_loss: 0.1111 - val_n_outputs1_loss: 0.0082\n",
            "Epoch 29/100\n",
            "175/177 [============================>.] - ETA: 0s - loss: 0.0630 - n_outputs0_loss: 0.0571 - n_outputs1_loss: 0.0060Epoch 1/100\n",
            " 44/177 [======>.......................] - ETA: 1s - loss: 0.1170 - n_outputs0_loss: 0.1091 - n_outputs1_loss: 0.0079\n",
            "Epoch 00029: val_loss did not improve from 0.11585\n",
            "177/177 [==============================] - 7s 40ms/step - loss: 0.0631 - n_outputs0_loss: 0.0572 - n_outputs1_loss: 0.0059 - val_loss: 0.1170 - val_n_outputs0_loss: 0.1091 - val_n_outputs1_loss: 0.0079\n",
            "Epoch 00029: early stopping\n",
            "Training completed in 0:03:42.\n",
            "\n",
            "\n",
            "----------- Best Eval Loss :0.115850 ---------\n",
            "<Figure size 640x480 with 1 Axes>\n"
          ],
          "name": "stdout"
        }
      ]
    },
    {
      "cell_type": "markdown",
      "metadata": {
        "colab_type": "text",
        "id": "T3Ya8qEUAfOv"
      },
      "source": [
        "## Train RNN model"
      ]
    },
    {
      "cell_type": "code",
      "metadata": {
        "colab_type": "code",
        "id": "edH3xO_AVWXu",
        "outputId": "0204ce51-3cf4-4acb-b5f0-32a095feacfb",
        "colab": {
          "base_uri": "https://localhost:8080/",
          "height": 1000
        }
      },
      "source": [
        "!python /content/mycar/manage.py train --type rnn --model /content/mycar/models/mypilot.h5 --aug"
      ],
      "execution_count": 0,
      "outputs": [
        {
          "output_type": "stream",
          "text": [
            "using donkey v3.1.1 ...\n",
            "loading config file: /content/mycar/config.py\n",
            "loading personal config over-rides\n",
            "\n",
            "config loaded\n",
            "sequence of images training\n",
            "\"get_model_by_type\" model Type is: rnn\n",
            "WARNING:tensorflow:From /usr/local/lib/python3.6/dist-packages/tensorflow_core/python/ops/resource_variable_ops.py:1630: calling BaseResourceVariable.__init__ (from tensorflow.python.ops.resource_variable_ops) with constraint is deprecated and will be removed in a future version.\n",
            "Instructions for updating:\n",
            "If using Keras pass *_constraint arguments to layers.\n",
            "Tub: /content/mycar/data/tubVaihingenIIICleaned200126 has 14234 records\n",
            "collating records\n",
            "collating sequences\n",
            "collated 14169 sequences of length 6\n",
            "train: 11336, validation: 2833\n",
            "steps_per_epoch 177\n",
            "Epoch 1/100\n",
            "WARNING:tensorflow:From /usr/local/lib/python3.6/dist-packages/tensorflow_core/python/ops/math_grad.py:1424: where (from tensorflow.python.ops.array_ops) is deprecated and will be removed in a future version.\n",
            "Instructions for updating:\n",
            "Use tf.where in 2.0, which has the same broadcast rule as np.where\n",
            "2020-03-02 10:54:21.132316: I tensorflow/stream_executor/platform/default/dso_loader.cc:44] Successfully opened dynamic library libcuda.so.1\n",
            "2020-03-02 10:54:21.184607: I tensorflow/stream_executor/cuda/cuda_gpu_executor.cc:983] successful NUMA node read from SysFS had negative value (-1), but there must be at least one NUMA node, so returning NUMA node zero\n",
            "2020-03-02 10:54:21.185259: I tensorflow/core/common_runtime/gpu/gpu_device.cc:1618] Found device 0 with properties: \n",
            "name: Tesla P4 major: 6 minor: 1 memoryClockRate(GHz): 1.1135\n",
            "pciBusID: 0000:00:04.0\n",
            "2020-03-02 10:54:21.198151: I tensorflow/stream_executor/platform/default/dso_loader.cc:44] Successfully opened dynamic library libcudart.so.10.1\n",
            "2020-03-02 10:54:21.423175: I tensorflow/stream_executor/platform/default/dso_loader.cc:44] Successfully opened dynamic library libcublas.so.10\n",
            "2020-03-02 10:54:21.552103: I tensorflow/stream_executor/platform/default/dso_loader.cc:44] Successfully opened dynamic library libcufft.so.10\n",
            "2020-03-02 10:54:21.571738: I tensorflow/stream_executor/platform/default/dso_loader.cc:44] Successfully opened dynamic library libcurand.so.10\n",
            "2020-03-02 10:54:21.843144: I tensorflow/stream_executor/platform/default/dso_loader.cc:44] Successfully opened dynamic library libcusolver.so.10\n",
            "2020-03-02 10:54:21.860870: I tensorflow/stream_executor/platform/default/dso_loader.cc:44] Successfully opened dynamic library libcusparse.so.10\n",
            "2020-03-02 10:54:22.395873: I tensorflow/stream_executor/platform/default/dso_loader.cc:44] Successfully opened dynamic library libcudnn.so.7\n",
            "2020-03-02 10:54:22.396042: I tensorflow/stream_executor/cuda/cuda_gpu_executor.cc:983] successful NUMA node read from SysFS had negative value (-1), but there must be at least one NUMA node, so returning NUMA node zero\n",
            "2020-03-02 10:54:22.396926: I tensorflow/stream_executor/cuda/cuda_gpu_executor.cc:983] successful NUMA node read from SysFS had negative value (-1), but there must be at least one NUMA node, so returning NUMA node zero\n",
            "2020-03-02 10:54:22.397639: I tensorflow/core/common_runtime/gpu/gpu_device.cc:1746] Adding visible gpu devices: 0\n",
            "2020-03-02 10:54:22.399069: I tensorflow/core/platform/cpu_feature_guard.cc:142] Your CPU supports instructions that this TensorFlow binary was not compiled to use: AVX512F\n",
            "2020-03-02 10:54:22.437048: I tensorflow/core/platform/profile_utils/cpu_utils.cc:94] CPU Frequency: 2000160000 Hz\n",
            "2020-03-02 10:54:22.437494: I tensorflow/compiler/xla/service/service.cc:168] XLA service 0x18fcf40 initialized for platform Host (this does not guarantee that XLA will be used). Devices:\n",
            "2020-03-02 10:54:22.437537: I tensorflow/compiler/xla/service/service.cc:176]   StreamExecutor device (0): Host, Default Version\n",
            "2020-03-02 10:54:22.612526: I tensorflow/stream_executor/cuda/cuda_gpu_executor.cc:983] successful NUMA node read from SysFS had negative value (-1), but there must be at least one NUMA node, so returning NUMA node zero\n",
            "2020-03-02 10:54:22.613280: I tensorflow/compiler/xla/service/service.cc:168] XLA service 0x18fdb80 initialized for platform CUDA (this does not guarantee that XLA will be used). Devices:\n",
            "2020-03-02 10:54:22.613666: I tensorflow/compiler/xla/service/service.cc:176]   StreamExecutor device (0): Tesla P4, Compute Capability 6.1\n",
            "2020-03-02 10:54:22.614994: I tensorflow/stream_executor/cuda/cuda_gpu_executor.cc:983] successful NUMA node read from SysFS had negative value (-1), but there must be at least one NUMA node, so returning NUMA node zero\n",
            "2020-03-02 10:54:22.615659: I tensorflow/core/common_runtime/gpu/gpu_device.cc:1618] Found device 0 with properties: \n",
            "name: Tesla P4 major: 6 minor: 1 memoryClockRate(GHz): 1.1135\n",
            "pciBusID: 0000:00:04.0\n",
            "2020-03-02 10:54:22.615753: I tensorflow/stream_executor/platform/default/dso_loader.cc:44] Successfully opened dynamic library libcudart.so.10.1\n",
            "2020-03-02 10:54:22.616801: I tensorflow/stream_executor/platform/default/dso_loader.cc:44] Successfully opened dynamic library libcublas.so.10\n",
            "2020-03-02 10:54:22.616847: I tensorflow/stream_executor/platform/default/dso_loader.cc:44] Successfully opened dynamic library libcufft.so.10\n",
            "2020-03-02 10:54:22.616877: I tensorflow/stream_executor/platform/default/dso_loader.cc:44] Successfully opened dynamic library libcurand.so.10\n",
            "2020-03-02 10:54:22.616901: I tensorflow/stream_executor/platform/default/dso_loader.cc:44] Successfully opened dynamic library libcusolver.so.10\n",
            "2020-03-02 10:54:22.616923: I tensorflow/stream_executor/platform/default/dso_loader.cc:44] Successfully opened dynamic library libcusparse.so.10\n",
            "2020-03-02 10:54:22.616946: I tensorflow/stream_executor/platform/default/dso_loader.cc:44] Successfully opened dynamic library libcudnn.so.7\n",
            "2020-03-02 10:54:22.617032: I tensorflow/stream_executor/cuda/cuda_gpu_executor.cc:983] successful NUMA node read from SysFS had negative value (-1), but there must be at least one NUMA node, so returning NUMA node zero\n",
            "2020-03-02 10:54:22.617782: I tensorflow/stream_executor/cuda/cuda_gpu_executor.cc:983] successful NUMA node read from SysFS had negative value (-1), but there must be at least one NUMA node, so returning NUMA node zero\n",
            "2020-03-02 10:54:22.618298: I tensorflow/core/common_runtime/gpu/gpu_device.cc:1746] Adding visible gpu devices: 0\n",
            "2020-03-02 10:54:22.621633: I tensorflow/stream_executor/platform/default/dso_loader.cc:44] Successfully opened dynamic library libcudart.so.10.1\n",
            "2020-03-02 10:54:22.623067: I tensorflow/core/common_runtime/gpu/gpu_device.cc:1159] Device interconnect StreamExecutor with strength 1 edge matrix:\n",
            "2020-03-02 10:54:22.623106: I tensorflow/core/common_runtime/gpu/gpu_device.cc:1165]      0 \n",
            "2020-03-02 10:54:22.623177: I tensorflow/core/common_runtime/gpu/gpu_device.cc:1178] 0:   N \n",
            "2020-03-02 10:54:22.624514: I tensorflow/stream_executor/cuda/cuda_gpu_executor.cc:983] successful NUMA node read from SysFS had negative value (-1), but there must be at least one NUMA node, so returning NUMA node zero\n",
            "2020-03-02 10:54:22.625218: I tensorflow/stream_executor/cuda/cuda_gpu_executor.cc:983] successful NUMA node read from SysFS had negative value (-1), but there must be at least one NUMA node, so returning NUMA node zero\n",
            "2020-03-02 10:54:22.625802: W tensorflow/core/common_runtime/gpu/gpu_bfc_allocator.cc:39] Overriding allow_growth setting because the TF_FORCE_GPU_ALLOW_GROWTH environment variable is set. Original config value was 0.\n",
            "2020-03-02 10:54:22.625854: I tensorflow/core/common_runtime/gpu/gpu_device.cc:1304] Created TensorFlow device (/job:localhost/replica:0/task:0/device:GPU:0 with 7123 MB memory) -> physical GPU (device: 0, name: Tesla P4, pci bus id: 0000:00:04.0, compute capability: 6.1)\n",
            "2020-03-02 10:54:30.771371: I tensorflow/stream_executor/platform/default/dso_loader.cc:44] Successfully opened dynamic library libcublas.so.10\n",
            "2020-03-02 10:54:32.314857: I tensorflow/stream_executor/platform/default/dso_loader.cc:44] Successfully opened dynamic library libcudnn.so.7\n",
            "176/177 [============================>.] - ETA: 0s - loss: 0.3324Epoch 1/100\n",
            " 44/177 [======>.......................] - ETA: 27s - loss: 0.3010\n",
            "Epoch 00001: val_loss improved from inf to 0.30102, saving model to /content/mycar/models/mypilot.h5\n",
            "177/177 [==============================] - 80s 454ms/step - loss: 0.3318 - val_loss: 0.3010\n",
            "Epoch 2/100\n",
            "176/177 [============================>.] - ETA: 0s - loss: 0.3057Epoch 1/100\n",
            " 44/177 [======>.......................] - ETA: 20s - loss: 0.3038\n",
            "Epoch 00002: val_loss did not improve from 0.30102\n",
            "177/177 [==============================] - 43s 242ms/step - loss: 0.3062 - val_loss: 0.3038\n",
            "Epoch 3/100\n",
            "176/177 [============================>.] - ETA: 0s - loss: 0.3042Epoch 1/100\n",
            " 44/177 [======>.......................] - ETA: 15s - loss: 0.2919\n",
            "Epoch 00003: val_loss improved from 0.30102 to 0.29193, saving model to /content/mycar/models/mypilot.h5\n",
            "177/177 [==============================] - 41s 233ms/step - loss: 0.3040 - val_loss: 0.2919\n",
            "Epoch 4/100\n",
            "176/177 [============================>.] - ETA: 0s - loss: 0.2140Epoch 1/100\n",
            " 44/177 [======>.......................] - ETA: 17s - loss: 0.1228\n",
            "Epoch 00004: val_loss improved from 0.29193 to 0.12281, saving model to /content/mycar/models/mypilot.h5\n",
            "177/177 [==============================] - 42s 238ms/step - loss: 0.2135 - val_loss: 0.1228\n",
            "Epoch 5/100\n",
            "176/177 [============================>.] - ETA: 0s - loss: 0.1206Epoch 1/100\n",
            " 44/177 [======>.......................] - ETA: 16s - loss: 0.0975\n",
            "Epoch 00005: val_loss improved from 0.12281 to 0.09747, saving model to /content/mycar/models/mypilot.h5\n",
            "177/177 [==============================] - 42s 237ms/step - loss: 0.1206 - val_loss: 0.0975\n",
            "Epoch 6/100\n",
            "176/177 [============================>.] - ETA: 0s - loss: 0.1046Epoch 1/100\n",
            " 44/177 [======>.......................] - ETA: 18s - loss: 0.0939\n",
            "Epoch 00006: val_loss improved from 0.09747 to 0.09393, saving model to /content/mycar/models/mypilot.h5\n",
            "177/177 [==============================] - 42s 239ms/step - loss: 0.1046 - val_loss: 0.0939\n",
            "Epoch 7/100\n",
            "176/177 [============================>.] - ETA: 0s - loss: 0.0984Epoch 1/100\n",
            " 44/177 [======>.......................] - ETA: 15s - loss: 0.0828\n",
            "Epoch 00007: val_loss improved from 0.09393 to 0.08277, saving model to /content/mycar/models/mypilot.h5\n",
            "177/177 [==============================] - 42s 236ms/step - loss: 0.0984 - val_loss: 0.0828\n",
            "Epoch 8/100\n",
            "176/177 [============================>.] - ETA: 0s - loss: 0.0921Epoch 1/100\n",
            " 44/177 [======>.......................] - ETA: 16s - loss: 0.0827\n",
            "Epoch 00008: val_loss improved from 0.08277 to 0.08269, saving model to /content/mycar/models/mypilot.h5\n",
            "177/177 [==============================] - 42s 236ms/step - loss: 0.0921 - val_loss: 0.0827\n",
            "Epoch 9/100\n",
            "176/177 [============================>.] - ETA: 0s - loss: 0.0882Epoch 1/100\n",
            " 44/177 [======>.......................] - ETA: 17s - loss: 0.0765\n",
            "Epoch 00009: val_loss improved from 0.08269 to 0.07652, saving model to /content/mycar/models/mypilot.h5\n",
            "177/177 [==============================] - 42s 239ms/step - loss: 0.0881 - val_loss: 0.0765\n",
            "Epoch 10/100\n",
            "176/177 [============================>.] - ETA: 0s - loss: 0.0841Epoch 1/100\n",
            " 44/177 [======>.......................] - ETA: 16s - loss: 0.0796\n",
            "Epoch 00010: val_loss did not improve from 0.07652\n",
            "177/177 [==============================] - 42s 235ms/step - loss: 0.0842 - val_loss: 0.0796\n",
            "Epoch 11/100\n",
            "176/177 [============================>.] - ETA: 0s - loss: 0.0806Epoch 1/100\n",
            " 44/177 [======>.......................] - ETA: 16s - loss: 0.0780\n",
            "Epoch 00011: val_loss did not improve from 0.07652\n",
            "177/177 [==============================] - 42s 235ms/step - loss: 0.0807 - val_loss: 0.0780\n",
            "Epoch 12/100\n",
            "176/177 [============================>.] - ETA: 0s - loss: 0.0767Epoch 1/100\n",
            " 44/177 [======>.......................] - ETA: 17s - loss: 0.0689\n",
            "Epoch 00012: val_loss improved from 0.07652 to 0.06885, saving model to /content/mycar/models/mypilot.h5\n",
            "177/177 [==============================] - 42s 239ms/step - loss: 0.0766 - val_loss: 0.0689\n",
            "Epoch 13/100\n",
            "176/177 [============================>.] - ETA: 0s - loss: 0.0743Epoch 1/100\n",
            " 44/177 [======>.......................] - ETA: 16s - loss: 0.0671\n",
            "Epoch 00013: val_loss improved from 0.06885 to 0.06709, saving model to /content/mycar/models/mypilot.h5\n",
            "177/177 [==============================] - 42s 238ms/step - loss: 0.0743 - val_loss: 0.0671\n",
            "Epoch 14/100\n",
            "176/177 [============================>.] - ETA: 0s - loss: 0.0720Epoch 1/100\n",
            " 44/177 [======>.......................] - ETA: 15s - loss: 0.0648\n",
            "Epoch 00014: val_loss improved from 0.06709 to 0.06479, saving model to /content/mycar/models/mypilot.h5\n",
            "177/177 [==============================] - 42s 235ms/step - loss: 0.0719 - val_loss: 0.0648\n",
            "Epoch 15/100\n",
            "176/177 [============================>.] - ETA: 0s - loss: 0.0705Epoch 1/100\n",
            " 44/177 [======>.......................] - ETA: 16s - loss: 0.0607\n",
            "Epoch 00015: val_loss improved from 0.06479 to 0.06068, saving model to /content/mycar/models/mypilot.h5\n",
            "177/177 [==============================] - 42s 235ms/step - loss: 0.0705 - val_loss: 0.0607\n",
            "Epoch 16/100\n",
            "176/177 [============================>.] - ETA: 0s - loss: 0.0669Epoch 1/100\n",
            " 44/177 [======>.......................] - ETA: 15s - loss: 0.0621\n",
            "Epoch 00016: val_loss did not improve from 0.06068\n",
            "177/177 [==============================] - 41s 232ms/step - loss: 0.0670 - val_loss: 0.0621\n",
            "Epoch 17/100\n",
            "176/177 [============================>.] - ETA: 0s - loss: 0.0650Epoch 1/100\n",
            " 44/177 [======>.......................] - ETA: 16s - loss: 0.0604\n",
            "Epoch 00017: val_loss improved from 0.06068 to 0.06036, saving model to /content/mycar/models/mypilot.h5\n",
            "177/177 [==============================] - 41s 234ms/step - loss: 0.0650 - val_loss: 0.0604\n",
            "Epoch 18/100\n",
            "176/177 [============================>.] - ETA: 0s - loss: 0.0636Epoch 1/100\n",
            " 44/177 [======>.......................] - ETA: 16s - loss: 0.0613\n",
            "Epoch 00018: val_loss did not improve from 0.06036\n",
            "177/177 [==============================] - 42s 235ms/step - loss: 0.0636 - val_loss: 0.0613\n",
            "Epoch 19/100\n",
            "176/177 [============================>.] - ETA: 0s - loss: 0.0605Epoch 1/100\n",
            " 44/177 [======>.......................] - ETA: 16s - loss: 0.0585\n",
            "Epoch 00019: val_loss improved from 0.06036 to 0.05849, saving model to /content/mycar/models/mypilot.h5\n",
            "177/177 [==============================] - 42s 235ms/step - loss: 0.0606 - val_loss: 0.0585\n",
            "Epoch 20/100\n",
            "176/177 [============================>.] - ETA: 0s - loss: 0.0586Epoch 1/100\n",
            " 44/177 [======>.......................] - ETA: 17s - loss: 0.0557\n",
            "Epoch 00020: val_loss improved from 0.05849 to 0.05567, saving model to /content/mycar/models/mypilot.h5\n",
            "177/177 [==============================] - 42s 238ms/step - loss: 0.0587 - val_loss: 0.0557\n",
            "Epoch 21/100\n",
            "176/177 [============================>.] - ETA: 0s - loss: 0.0573Epoch 1/100\n",
            " 44/177 [======>.......................] - ETA: 18s - loss: 0.0520\n",
            "Epoch 00021: val_loss improved from 0.05567 to 0.05205, saving model to /content/mycar/models/mypilot.h5\n",
            "177/177 [==============================] - 42s 239ms/step - loss: 0.0575 - val_loss: 0.0520\n",
            "Epoch 22/100\n",
            "176/177 [============================>.] - ETA: 0s - loss: 0.0547Epoch 1/100\n",
            " 44/177 [======>.......................] - ETA: 17s - loss: 0.0518\n",
            "Epoch 00022: val_loss improved from 0.05205 to 0.05184, saving model to /content/mycar/models/mypilot.h5\n",
            "177/177 [==============================] - 42s 237ms/step - loss: 0.0547 - val_loss: 0.0518\n",
            "Epoch 23/100\n",
            "176/177 [============================>.] - ETA: 0s - loss: 0.0554Epoch 1/100\n",
            " 44/177 [======>.......................] - ETA: 16s - loss: 0.0508\n",
            "Epoch 00023: val_loss improved from 0.05184 to 0.05078, saving model to /content/mycar/models/mypilot.h5\n",
            "177/177 [==============================] - 42s 235ms/step - loss: 0.0553 - val_loss: 0.0508\n",
            "Epoch 24/100\n",
            "176/177 [============================>.] - ETA: 0s - loss: 0.0520Epoch 1/100\n",
            " 44/177 [======>.......................] - ETA: 16s - loss: 0.0550\n",
            "Epoch 00024: val_loss did not improve from 0.05078\n",
            "177/177 [==============================] - 42s 235ms/step - loss: 0.0522 - val_loss: 0.0550\n",
            "Epoch 25/100\n",
            "176/177 [============================>.] - ETA: 0s - loss: 0.0513Epoch 1/100\n",
            " 44/177 [======>.......................] - ETA: 16s - loss: 0.0483\n",
            "Epoch 00025: val_loss improved from 0.05078 to 0.04827, saving model to /content/mycar/models/mypilot.h5\n",
            "177/177 [==============================] - 42s 236ms/step - loss: 0.0514 - val_loss: 0.0483\n",
            "Epoch 26/100\n",
            "176/177 [============================>.] - ETA: 0s - loss: 0.0499Epoch 1/100\n",
            " 44/177 [======>.......................] - ETA: 16s - loss: 0.0502\n",
            "Epoch 00026: val_loss did not improve from 0.04827\n",
            "177/177 [==============================] - 42s 235ms/step - loss: 0.0497 - val_loss: 0.0502\n",
            "Epoch 27/100\n",
            "176/177 [============================>.] - ETA: 0s - loss: 0.0506Epoch 1/100\n",
            " 44/177 [======>.......................] - ETA: 16s - loss: 0.0449\n",
            "Epoch 00027: val_loss improved from 0.04827 to 0.04485, saving model to /content/mycar/models/mypilot.h5\n",
            "177/177 [==============================] - 42s 236ms/step - loss: 0.0506 - val_loss: 0.0449\n",
            "Epoch 28/100\n",
            "176/177 [============================>.] - ETA: 0s - loss: 0.0477Epoch 1/100\n",
            " 44/177 [======>.......................] - ETA: 17s - loss: 0.0491\n",
            "Epoch 00028: val_loss did not improve from 0.04485\n",
            "177/177 [==============================] - 42s 236ms/step - loss: 0.0476 - val_loss: 0.0491\n",
            "Epoch 29/100\n",
            "176/177 [============================>.] - ETA: 0s - loss: 0.0470Epoch 1/100\n",
            " 44/177 [======>.......................] - ETA: 16s - loss: 0.0508\n",
            "Epoch 00029: val_loss did not improve from 0.04485\n",
            "177/177 [==============================] - 41s 234ms/step - loss: 0.0471 - val_loss: 0.0508\n",
            "Epoch 30/100\n",
            "176/177 [============================>.] - ETA: 0s - loss: 0.0449Epoch 1/100\n",
            " 44/177 [======>.......................] - ETA: 17s - loss: 0.0444\n",
            "Epoch 00030: val_loss improved from 0.04485 to 0.04441, saving model to /content/mycar/models/mypilot.h5\n",
            "177/177 [==============================] - 42s 238ms/step - loss: 0.0448 - val_loss: 0.0444\n",
            "Epoch 31/100\n",
            "176/177 [============================>.] - ETA: 0s - loss: 0.0433Epoch 1/100\n",
            " 44/177 [======>.......................] - ETA: 17s - loss: 0.0420\n",
            "Epoch 00031: val_loss improved from 0.04441 to 0.04200, saving model to /content/mycar/models/mypilot.h5\n",
            "177/177 [==============================] - 42s 237ms/step - loss: 0.0433 - val_loss: 0.0420\n",
            "Epoch 32/100\n",
            "176/177 [============================>.] - ETA: 0s - loss: 0.0439Epoch 1/100\n",
            " 44/177 [======>.......................] - ETA: 16s - loss: 0.0436\n",
            "Epoch 00032: val_loss did not improve from 0.04200\n",
            "177/177 [==============================] - 41s 234ms/step - loss: 0.0438 - val_loss: 0.0436\n",
            "Epoch 33/100\n",
            "176/177 [============================>.] - ETA: 0s - loss: 0.0429Epoch 1/100\n",
            " 44/177 [======>.......................] - ETA: 16s - loss: 0.0443\n",
            "Epoch 00033: val_loss did not improve from 0.04200\n",
            "177/177 [==============================] - 42s 235ms/step - loss: 0.0430 - val_loss: 0.0443\n",
            "Epoch 34/100\n",
            "176/177 [============================>.] - ETA: 0s - loss: 0.0409Epoch 1/100\n",
            " 44/177 [======>.......................] - ETA: 17s - loss: 0.0427\n",
            "Epoch 00034: val_loss did not improve from 0.04200\n",
            "177/177 [==============================] - 42s 236ms/step - loss: 0.0410 - val_loss: 0.0427\n",
            "Epoch 35/100\n",
            "176/177 [============================>.] - ETA: 0s - loss: 0.0419Epoch 1/100\n",
            " 44/177 [======>.......................] - ETA: 16s - loss: 0.0433\n",
            "Epoch 00035: val_loss did not improve from 0.04200\n",
            "177/177 [==============================] - 41s 234ms/step - loss: 0.0418 - val_loss: 0.0433\n",
            "Epoch 36/100\n",
            "176/177 [============================>.] - ETA: 0s - loss: 0.0410Epoch 1/100\n",
            " 44/177 [======>.......................] - ETA: 16s - loss: 0.0394\n",
            "Epoch 00036: val_loss improved from 0.04200 to 0.03945, saving model to /content/mycar/models/mypilot.h5\n",
            "177/177 [==============================] - 42s 235ms/step - loss: 0.0409 - val_loss: 0.0394\n",
            "Epoch 37/100\n",
            "176/177 [============================>.] - ETA: 0s - loss: 0.0404Epoch 1/100\n",
            " 44/177 [======>.......................] - ETA: 17s - loss: 0.0410\n",
            "Epoch 00037: val_loss did not improve from 0.03945\n",
            "177/177 [==============================] - 42s 235ms/step - loss: 0.0402 - val_loss: 0.0410\n",
            "Epoch 38/100\n",
            "176/177 [============================>.] - ETA: 0s - loss: 0.0401Epoch 1/100\n",
            " 44/177 [======>.......................] - ETA: 16s - loss: 0.0385\n",
            "Epoch 00038: val_loss improved from 0.03945 to 0.03854, saving model to /content/mycar/models/mypilot.h5\n",
            "177/177 [==============================] - 42s 235ms/step - loss: 0.0400 - val_loss: 0.0385\n",
            "Epoch 39/100\n",
            "176/177 [============================>.] - ETA: 0s - loss: 0.0379Epoch 1/100\n",
            " 44/177 [======>.......................] - ETA: 16s - loss: 0.0397\n",
            "Epoch 00039: val_loss did not improve from 0.03854\n",
            "177/177 [==============================] - 42s 235ms/step - loss: 0.0381 - val_loss: 0.0397\n",
            "Epoch 40/100\n",
            "176/177 [============================>.] - ETA: 0s - loss: 0.0371Epoch 1/100\n",
            " 44/177 [======>.......................] - ETA: 16s - loss: 0.0423\n",
            "Epoch 00040: val_loss did not improve from 0.03854\n",
            "177/177 [==============================] - 42s 235ms/step - loss: 0.0372 - val_loss: 0.0423\n",
            "Epoch 41/100\n",
            "176/177 [============================>.] - ETA: 0s - loss: 0.0369Epoch 1/100\n",
            " 44/177 [======>.......................] - ETA: 16s - loss: 0.0421\n",
            "Epoch 00041: val_loss did not improve from 0.03854\n",
            "177/177 [==============================] - 41s 234ms/step - loss: 0.0370 - val_loss: 0.0421\n",
            "Epoch 42/100\n",
            "176/177 [============================>.] - ETA: 0s - loss: 0.0358Epoch 1/100\n",
            " 44/177 [======>.......................] - ETA: 17s - loss: 0.0373\n",
            "Epoch 00042: val_loss improved from 0.03854 to 0.03727, saving model to /content/mycar/models/mypilot.h5\n",
            "177/177 [==============================] - 42s 236ms/step - loss: 0.0358 - val_loss: 0.0373\n",
            "Epoch 43/100\n",
            "176/177 [============================>.] - ETA: 0s - loss: 0.0366Epoch 1/100\n",
            " 44/177 [======>.......................] - ETA: 16s - loss: 0.0380\n",
            "Epoch 00043: val_loss did not improve from 0.03727\n",
            "177/177 [==============================] - 41s 234ms/step - loss: 0.0366 - val_loss: 0.0380\n",
            "Epoch 44/100\n",
            "176/177 [============================>.] - ETA: 0s - loss: 0.0355Epoch 1/100\n",
            " 44/177 [======>.......................] - ETA: 16s - loss: 0.0401\n",
            "Epoch 00044: val_loss did not improve from 0.03727\n",
            "177/177 [==============================] - 42s 235ms/step - loss: 0.0355 - val_loss: 0.0401\n",
            "Epoch 45/100\n",
            "176/177 [============================>.] - ETA: 0s - loss: 0.0352Epoch 1/100\n",
            " 44/177 [======>.......................] - ETA: 17s - loss: 0.0368\n",
            "Epoch 00045: val_loss improved from 0.03727 to 0.03677, saving model to /content/mycar/models/mypilot.h5\n",
            "177/177 [==============================] - 42s 238ms/step - loss: 0.0352 - val_loss: 0.0368\n",
            "Epoch 46/100\n",
            "176/177 [============================>.] - ETA: 0s - loss: 0.0355Epoch 1/100\n",
            " 44/177 [======>.......................] - ETA: 16s - loss: 0.0365\n",
            "Epoch 00046: val_loss improved from 0.03677 to 0.03652, saving model to /content/mycar/models/mypilot.h5\n",
            "177/177 [==============================] - 42s 235ms/step - loss: 0.0356 - val_loss: 0.0365\n",
            "Epoch 47/100\n",
            "176/177 [============================>.] - ETA: 0s - loss: 0.0346Epoch 1/100\n",
            " 44/177 [======>.......................] - ETA: 17s - loss: 0.0405\n",
            "Epoch 00047: val_loss did not improve from 0.03652\n",
            "177/177 [==============================] - 42s 236ms/step - loss: 0.0346 - val_loss: 0.0405\n",
            "Epoch 48/100\n",
            "176/177 [============================>.] - ETA: 0s - loss: 0.0343Epoch 1/100\n",
            " 44/177 [======>.......................] - ETA: 16s - loss: 0.0352\n",
            "Epoch 00048: val_loss improved from 0.03652 to 0.03524, saving model to /content/mycar/models/mypilot.h5\n",
            "177/177 [==============================] - 42s 237ms/step - loss: 0.0343 - val_loss: 0.0352\n",
            "Epoch 49/100\n",
            "176/177 [============================>.] - ETA: 0s - loss: 0.0328Epoch 1/100\n",
            " 44/177 [======>.......................] - ETA: 18s - loss: 0.0353\n",
            "Epoch 00049: val_loss did not improve from 0.03524\n",
            "177/177 [==============================] - 42s 238ms/step - loss: 0.0329 - val_loss: 0.0353\n",
            "Epoch 50/100\n",
            "176/177 [============================>.] - ETA: 0s - loss: 0.0332Epoch 1/100\n",
            " 44/177 [======>.......................] - ETA: 15s - loss: 0.0392\n",
            "Epoch 00050: val_loss did not improve from 0.03524\n",
            "177/177 [==============================] - 42s 235ms/step - loss: 0.0331 - val_loss: 0.0392\n",
            "Epoch 51/100\n",
            "176/177 [============================>.] - ETA: 0s - loss: 0.0322Epoch 1/100\n",
            " 44/177 [======>.......................] - ETA: 15s - loss: 0.0351\n",
            "Epoch 00051: val_loss improved from 0.03524 to 0.03511, saving model to /content/mycar/models/mypilot.h5\n",
            "177/177 [==============================] - 41s 233ms/step - loss: 0.0322 - val_loss: 0.0351\n",
            "Epoch 52/100\n",
            "176/177 [============================>.] - ETA: 0s - loss: 0.0311Epoch 1/100\n",
            " 44/177 [======>.......................] - ETA: 16s - loss: 0.0355\n",
            "Epoch 00052: val_loss did not improve from 0.03511\n",
            "177/177 [==============================] - 41s 233ms/step - loss: 0.0311 - val_loss: 0.0355\n",
            "Epoch 53/100\n",
            "176/177 [============================>.] - ETA: 0s - loss: 0.0316Epoch 1/100\n",
            " 44/177 [======>.......................] - ETA: 16s - loss: 0.0334\n",
            "Epoch 00053: val_loss improved from 0.03511 to 0.03341, saving model to /content/mycar/models/mypilot.h5\n",
            "177/177 [==============================] - 42s 234ms/step - loss: 0.0317 - val_loss: 0.0334\n",
            "Epoch 54/100\n",
            "176/177 [============================>.] - ETA: 0s - loss: 0.0313Epoch 1/100\n",
            " 44/177 [======>.......................] - ETA: 16s - loss: 0.0343\n",
            "Epoch 00054: val_loss did not improve from 0.03341\n",
            "177/177 [==============================] - 41s 233ms/step - loss: 0.0313 - val_loss: 0.0343\n",
            "Epoch 55/100\n",
            "176/177 [============================>.] - ETA: 0s - loss: 0.0313Epoch 1/100\n",
            " 44/177 [======>.......................] - ETA: 16s - loss: 0.0354\n",
            "Epoch 00055: val_loss did not improve from 0.03341\n",
            "177/177 [==============================] - 42s 235ms/step - loss: 0.0314 - val_loss: 0.0354\n",
            "Epoch 56/100\n",
            "176/177 [============================>.] - ETA: 0s - loss: 0.0303Epoch 1/100\n",
            " 44/177 [======>.......................] - ETA: 16s - loss: 0.0353\n",
            "Epoch 00056: val_loss did not improve from 0.03341\n",
            "177/177 [==============================] - 42s 235ms/step - loss: 0.0304 - val_loss: 0.0353\n",
            "Epoch 57/100\n",
            "176/177 [============================>.] - ETA: 0s - loss: 0.0312Epoch 1/100\n",
            " 44/177 [======>.......................] - ETA: 16s - loss: 0.0344\n",
            "Epoch 00057: val_loss did not improve from 0.03341\n",
            "177/177 [==============================] - 41s 234ms/step - loss: 0.0312 - val_loss: 0.0344\n",
            "Epoch 58/100\n",
            "176/177 [============================>.] - ETA: 0s - loss: 0.0316Epoch 1/100\n",
            " 44/177 [======>.......................] - ETA: 16s - loss: 0.0341\n",
            "Epoch 00058: val_loss did not improve from 0.03341\n",
            "177/177 [==============================] - 41s 234ms/step - loss: 0.0316 - val_loss: 0.0341\n",
            "Epoch 00058: early stopping\n",
            "Training completed in 0:40:58.\n",
            "\n",
            "\n",
            "----------- Best Eval Loss :0.033409 ---------\n",
            "<Figure size 640x480 with 1 Axes>\n"
          ],
          "name": "stdout"
        }
      ]
    },
    {
      "cell_type": "markdown",
      "metadata": {
        "colab_type": "text",
        "id": "rXzn1noJz5MQ"
      },
      "source": [
        "## Plot loss curve of model\n",
        "The curve should show smaller loss vs epochs and the train and validation loss should not differ too much. \n",
        ">  Tip: If train loss is much smaller than validation loss your model might be overfitting.\n"
      ]
    },
    {
      "cell_type": "code",
      "metadata": {
        "colab_type": "code",
        "id": "AixQrFy_z3vv",
        "outputId": "100bef5e-ed30-4016-b416-f8f9812bd73e",
        "colab": {
          "base_uri": "https://localhost:8080/",
          "height": 514
        }
      },
      "source": [
        "%cd /content/mycar/models\n",
        "file = glob.glob(\"*.png\")\n",
        "Image(file[0])"
      ],
      "execution_count": 0,
      "outputs": [
        {
          "output_type": "stream",
          "text": [
            "/content/mycar/models\n"
          ],
          "name": "stdout"
        },
        {
          "output_type": "execute_result",
          "data": {
            "image/png": "[encoded data removed]",
            "text/plain": [
              "<IPython.core.display.Image object>"
            ]
          },
          "metadata": {
            "tags": []
          },
          "execution_count": 15
        }
      ]
    },
    {
      "cell_type": "markdown",
      "metadata": {
        "colab_type": "text",
        "id": "6BEOJYH601O0"
      },
      "source": [
        "### Copy the trained model back to Donkey Car (Pi)\n",
        "\n",
        "Once the training is complete on Colab, download\n",
        "\n",
        "\n",
        "*   mypilot.h5 file from /content/mycar/models/ \n",
        "*   myconfig.py file from /content/mycar/\n",
        "\n",
        "\n",
        "\n"
      ]
    },
    {
      "cell_type": "code",
      "metadata": {
        "colab_type": "code",
        "id": "YtvyJpOdocjb",
        "outputId": "cbee12cf-d405-4878-8e15-feec1e3b2e30",
        "colab": {
          "base_uri": "https://localhost:8080/",
          "height": 34
        }
      },
      "source": [
        "from google.colab import files\n",
        "\n",
        "files.download('./mypilot.h5')\n",
        "\n",
        "%cd /content/mycar\n",
        "\n",
        "files.download('myconfig.py')"
      ],
      "execution_count": 0,
      "outputs": [
        {
          "output_type": "stream",
          "text": [
            "/content/mycar\n"
          ],
          "name": "stdout"
        }
      ]
    },
    {
      "cell_type": "markdown",
      "metadata": {
        "colab_type": "text",
        "id": "i7AIY6yBOCM-"
      },
      "source": [
        "Alternatively, you can copy the model back to Google Drive too"
      ]
    },
    {
      "cell_type": "code",
      "metadata": {
        "colab_type": "code",
        "id": "7Dim4fCpOBo9",
        "colab": {}
      },
      "source": [
        "!cp /content/mycar/models/mypilot.h5 /content/drive/My\\ Drive/myCar/mypilot.h5"
      ],
      "execution_count": 0,
      "outputs": []
    },
    {
      "cell_type": "markdown",
      "metadata": {
        "colab_type": "text",
        "id": "GpkOVzh86omO"
      },
      "source": [
        "### Copy the file from your PC or Mac to the Raspberry Pi using Filezilla or scp command.\n",
        "\n",
        "```\n",
        "sftp pi@raspberry.local\n",
        "cd mycar/models\n",
        "put mypilot.h5\n",
        "```"
      ]
    },
    {
      "cell_type": "markdown",
      "metadata": {
        "colab_type": "text",
        "id": "hfERkGy821Xy"
      },
      "source": [
        "### Start Autopilot on Pi\n",
        "\n",
        "\n",
        "```bash\n",
        "cd ~/mycar\n",
        "python manage.py drive --model models/mypilot.h5 --js\n",
        "```\n"
      ]
    },
    {
      "cell_type": "markdown",
      "metadata": {
        "colab_type": "text",
        "id": "X93SodzAv9hV"
      },
      "source": [
        "# Bonus - Salient Object Visualization\n",
        "The salient visualization gives an indication which parts of the image caused the highest activaitons in the model. It might be a good \n",
        "> Note: It seems like the salient mode doesn't work for RNN networks"
      ]
    },
    {
      "cell_type": "code",
      "metadata": {
        "colab_type": "code",
        "id": "4AZvWSeiyqto",
        "outputId": "9ef17996-a87d-477c-e5dd-bb47368ebacb",
        "colab": {
          "base_uri": "https://localhost:8080/",
          "height": 629
        }
      },
      "source": [
        "# !pip install git+https://github.com/autorope/keras-vis.git\n",
        "!pip uninstall keras-vis\n",
        "!pip install git+https://github.com/sctse999/keras-vis\n",
        "  \n",
        "  "
      ],
      "execution_count": 0,
      "outputs": [
        {
          "output_type": "stream",
          "text": [
            "Uninstalling keras-vis-0.4.1:\n",
            "  Would remove:\n",
            "    /usr/local/lib/python3.6/dist-packages/docs/*\n",
            "    /usr/local/lib/python3.6/dist-packages/keras_vis-0.4.1.dist-info/*\n",
            "    /usr/local/lib/python3.6/dist-packages/vis/*\n",
            "  Would not remove (might be manually added):\n",
            "    /usr/local/lib/python3.6/dist-packages/docs/autogen.py\n",
            "    /usr/local/lib/python3.6/dist-packages/docs/structure.py\n",
            "Proceed (y/n)? y\n",
            "  Successfully uninstalled keras-vis-0.4.1\n",
            "Collecting git+https://github.com/sctse999/keras-vis\n",
            "  Cloning https://github.com/sctse999/keras-vis to /tmp/pip-req-build-fppmjn_o\n",
            "  Running command git clone -q https://github.com/sctse999/keras-vis /tmp/pip-req-build-fppmjn_o\n",
            "Requirement already satisfied: six in /usr/local/lib/python3.6/dist-packages (from keras-vis==0.5.0) (1.12.0)\n",
            "Requirement already satisfied: scikit-image in /usr/local/lib/python3.6/dist-packages (from keras-vis==0.5.0) (0.16.2)\n",
            "Requirement already satisfied: matplotlib in /usr/local/lib/python3.6/dist-packages (from keras-vis==0.5.0) (3.1.3)\n",
            "Requirement already satisfied: h5py in /usr/local/lib/python3.6/dist-packages (from keras-vis==0.5.0) (2.8.0)\n",
            "Requirement already satisfied: networkx>=2.0 in /usr/local/lib/python3.6/dist-packages (from scikit-image->keras-vis==0.5.0) (2.4)\n",
            "Requirement already satisfied: pillow>=4.3.0 in /usr/local/lib/python3.6/dist-packages (from scikit-image->keras-vis==0.5.0) (6.2.2)\n",
            "Requirement already satisfied: imageio>=2.3.0 in /usr/local/lib/python3.6/dist-packages (from scikit-image->keras-vis==0.5.0) (2.4.1)\n",
            "Requirement already satisfied: PyWavelets>=0.4.0 in /usr/local/lib/python3.6/dist-packages (from scikit-image->keras-vis==0.5.0) (1.1.1)\n",
            "Requirement already satisfied: scipy>=0.19.0 in /usr/local/lib/python3.6/dist-packages (from scikit-image->keras-vis==0.5.0) (1.4.1)\n",
            "Requirement already satisfied: cycler>=0.10 in /usr/local/lib/python3.6/dist-packages (from matplotlib->keras-vis==0.5.0) (0.10.0)\n",
            "Requirement already satisfied: pyparsing!=2.0.4,!=2.1.2,!=2.1.6,>=2.0.1 in /usr/local/lib/python3.6/dist-packages (from matplotlib->keras-vis==0.5.0) (2.4.6)\n",
            "Requirement already satisfied: kiwisolver>=1.0.1 in /usr/local/lib/python3.6/dist-packages (from matplotlib->keras-vis==0.5.0) (1.1.0)\n",
            "Requirement already satisfied: numpy>=1.11 in /usr/local/lib/python3.6/dist-packages (from matplotlib->keras-vis==0.5.0) (1.17.5)\n",
            "Requirement already satisfied: python-dateutil>=2.1 in /usr/local/lib/python3.6/dist-packages (from matplotlib->keras-vis==0.5.0) (2.6.1)\n",
            "Requirement already satisfied: decorator>=4.3.0 in /usr/local/lib/python3.6/dist-packages (from networkx>=2.0->scikit-image->keras-vis==0.5.0) (4.4.1)\n",
            "Requirement already satisfied: setuptools in /usr/local/lib/python3.6/dist-packages (from kiwisolver>=1.0.1->matplotlib->keras-vis==0.5.0) (45.1.0)\n",
            "Building wheels for collected packages: keras-vis\n",
            "  Building wheel for keras-vis (setup.py) ... \u001b[?25l\u001b[?25hdone\n",
            "  Created wheel for keras-vis: filename=keras_vis-0.5.0-py2.py3-none-any.whl size=38989 sha256=3425b80d2a4c02e113e49cc0eac6273520739475597a75c838d65a26dba7950b\n",
            "  Stored in directory: /tmp/pip-ephem-wheel-cache-5ih_t8yg/wheels/29/87/8e/abd2257f08391eabe7552711aecf08cbb50f79877210b21be0\n",
            "Successfully built keras-vis\n",
            "Installing collected packages: keras-vis\n",
            "Successfully installed keras-vis-0.5.0\n"
          ],
          "name": "stdout"
        }
      ]
    },
    {
      "cell_type": "code",
      "metadata": {
        "colab_type": "code",
        "id": "kKI37gVrv9Q8",
        "colab": {}
      },
      "source": [
        "%cd /content/mycar\n",
        "!donkey makemovie --tub data/{tub_name} --model models/mypilot.h5 --type linear --salient"
      ],
      "execution_count": 0,
      "outputs": []
    },
    {
      "cell_type": "markdown",
      "metadata": {
        "colab_type": "text",
        "id": "h7Rh-PlQFCkR"
      },
      "source": [
        "Download the movie to local machine"
      ]
    },
    {
      "cell_type": "code",
      "metadata": {
        "colab_type": "code",
        "id": "IcUrgOq_pePV",
        "outputId": "b5a868ff-f35f-4a08-ecdf-40fc79114e82",
        "colab": {
          "base_uri": "https://localhost:8080/",
          "height": 272
        }
      },
      "source": [
        "\n",
        "%cd /content/mycar\n",
        "!ls -ahl\n",
        "files.download('tub_movie.mp4')"
      ],
      "execution_count": 0,
      "outputs": [
        {
          "output_type": "stream",
          "text": [
            "/content/mycar\n",
            "total 89M\n",
            "drwxr-xr-x 6 root root 4.0K Mar  2 11:48 .\n",
            "drwxr-xr-x 1 root root 4.0K Mar  2 10:52 ..\n",
            "-rw-r--r-- 1 root root  13K Mar  2 10:51 config.py\n",
            "drwxr-xr-x 3 root root 4.0K Mar  2 10:52 data\n",
            "drwxr-xr-x 2 root root 4.0K Mar  2 10:51 logs\n",
            "-rw-r--r-- 1 root root  23K Mar  2 10:51 manage.py\n",
            "drwxr-xr-x 2 root root 4.0K Mar  2 11:35 models\n",
            "-rw-r--r-- 1 root root  14K Mar  2 10:52 myconfig.py\n",
            "-rw-r--r-- 1 root root 1.8M Mar  2 11:46 mypilot.h5\n",
            "drwxr-xr-x 2 root root 4.0K Mar  2 10:54 __pycache__\n",
            "-rw-r--r-- 1 root root  39K Mar  2 10:51 train.py\n",
            "-rw-r--r-- 1 root root  39M Mar  2 11:50 tub_movie.mp4\n",
            "-rw------- 1 root root  49M Mar  2 11:46 tubVaihingenIIICleaned200126.tar.gz\n"
          ],
          "name": "stdout"
        }
      ]
    },
    {
      "cell_type": "markdown",
      "metadata": {
        "colab_type": "text",
        "id": "H9naBRC-GZ82"
      },
      "source": [
        "Or download the file to Google Drive"
      ]
    },
    {
      "cell_type": "code",
      "metadata": {
        "colab_type": "code",
        "id": "QwXuQ7vhGh6l",
        "colab": {}
      },
      "source": [
        "!cp /content/mycar/tub_movie.mp4 /content/drive/My\\ Drive/myCar/tub_movie.mp4"
      ],
      "execution_count": 0,
      "outputs": []
    }
  ]
}